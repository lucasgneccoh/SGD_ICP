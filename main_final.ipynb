{
  "nbformat": 4,
  "nbformat_minor": 0,
  "metadata": {
    "accelerator": "GPU",
    "colab": {
      "name": "main_final.ipynb",
      "provenance": [],
      "collapsed_sections": [
        "htovwa9SD5XU",
        "pJsUnC_JCy5M",
        "HvxX0IpkcoN7",
        "MamlhJFkDVc3",
        "FdICxac5DZnz",
        "s7qh7d2LJ3EH",
        "osHeYQYWFqpp"
      ],
      "authorship_tag": "ABX9TyM22b/C5pjly9QETTnQIQoq",
      "include_colab_link": true
    },
    "kernelspec": {
      "display_name": "Python 3",
      "name": "python3"
    },
    "language_info": {
      "name": "python"
    },
    "widgets": {
      "application/vnd.jupyter.widget-state+json": {
        "53ad59ae73db4beab5e0a414bdea08b9": {
          "model_module": "@jupyter-widgets/controls",
          "model_name": "HBoxModel",
          "state": {
            "_view_name": "HBoxView",
            "_dom_classes": [],
            "_model_name": "HBoxModel",
            "_view_module": "@jupyter-widgets/controls",
            "_model_module_version": "1.5.0",
            "_view_count": null,
            "_view_module_version": "1.5.0",
            "box_style": "",
            "layout": "IPY_MODEL_c97185726e52473698fcd3dfa95f10f0",
            "_model_module": "@jupyter-widgets/controls",
            "children": [
              "IPY_MODEL_d0c20aef67914a92866efee3ae28c3c0",
              "IPY_MODEL_917b0f73081b4e73b838835648d1c1bb"
            ]
          }
        },
        "c97185726e52473698fcd3dfa95f10f0": {
          "model_module": "@jupyter-widgets/base",
          "model_name": "LayoutModel",
          "state": {
            "_view_name": "LayoutView",
            "grid_template_rows": null,
            "right": null,
            "justify_content": null,
            "_view_module": "@jupyter-widgets/base",
            "overflow": null,
            "_model_module_version": "1.2.0",
            "_view_count": null,
            "flex_flow": null,
            "width": null,
            "min_width": null,
            "border": null,
            "align_items": null,
            "bottom": null,
            "_model_module": "@jupyter-widgets/base",
            "top": null,
            "grid_column": null,
            "overflow_y": null,
            "overflow_x": null,
            "grid_auto_flow": null,
            "grid_area": null,
            "grid_template_columns": null,
            "flex": null,
            "_model_name": "LayoutModel",
            "justify_items": null,
            "grid_row": null,
            "max_height": null,
            "align_content": null,
            "visibility": null,
            "align_self": null,
            "height": null,
            "min_height": null,
            "padding": null,
            "grid_auto_rows": null,
            "grid_gap": null,
            "max_width": null,
            "order": null,
            "_view_module_version": "1.2.0",
            "grid_template_areas": null,
            "object_position": null,
            "object_fit": null,
            "grid_auto_columns": null,
            "margin": null,
            "display": null,
            "left": null
          }
        },
        "d0c20aef67914a92866efee3ae28c3c0": {
          "model_module": "@jupyter-widgets/controls",
          "model_name": "FloatProgressModel",
          "state": {
            "_view_name": "ProgressView",
            "style": "IPY_MODEL_2c476c14628d414bac9504a0b92e4531",
            "_dom_classes": [],
            "description": "100%",
            "_model_name": "FloatProgressModel",
            "bar_style": "success",
            "max": 50,
            "_view_module": "@jupyter-widgets/controls",
            "_model_module_version": "1.5.0",
            "value": 50,
            "_view_count": null,
            "_view_module_version": "1.5.0",
            "orientation": "horizontal",
            "min": 0,
            "description_tooltip": null,
            "_model_module": "@jupyter-widgets/controls",
            "layout": "IPY_MODEL_957dac19e8584c6aa38d61bab6884ae1"
          }
        },
        "917b0f73081b4e73b838835648d1c1bb": {
          "model_module": "@jupyter-widgets/controls",
          "model_name": "HTMLModel",
          "state": {
            "_view_name": "HTMLView",
            "style": "IPY_MODEL_a47e84eb56ae4f2fae697618dd30520f",
            "_dom_classes": [],
            "description": "",
            "_model_name": "HTMLModel",
            "placeholder": "​",
            "_view_module": "@jupyter-widgets/controls",
            "_model_module_version": "1.5.0",
            "value": " 50/50 [14:13&lt;00:00, 17.06s/it]",
            "_view_count": null,
            "_view_module_version": "1.5.0",
            "description_tooltip": null,
            "_model_module": "@jupyter-widgets/controls",
            "layout": "IPY_MODEL_fd33650d6a6a46aebec8396a7617e6e0"
          }
        },
        "2c476c14628d414bac9504a0b92e4531": {
          "model_module": "@jupyter-widgets/controls",
          "model_name": "ProgressStyleModel",
          "state": {
            "_view_name": "StyleView",
            "_model_name": "ProgressStyleModel",
            "description_width": "initial",
            "_view_module": "@jupyter-widgets/base",
            "_model_module_version": "1.5.0",
            "_view_count": null,
            "_view_module_version": "1.2.0",
            "bar_color": null,
            "_model_module": "@jupyter-widgets/controls"
          }
        },
        "957dac19e8584c6aa38d61bab6884ae1": {
          "model_module": "@jupyter-widgets/base",
          "model_name": "LayoutModel",
          "state": {
            "_view_name": "LayoutView",
            "grid_template_rows": null,
            "right": null,
            "justify_content": null,
            "_view_module": "@jupyter-widgets/base",
            "overflow": null,
            "_model_module_version": "1.2.0",
            "_view_count": null,
            "flex_flow": null,
            "width": null,
            "min_width": null,
            "border": null,
            "align_items": null,
            "bottom": null,
            "_model_module": "@jupyter-widgets/base",
            "top": null,
            "grid_column": null,
            "overflow_y": null,
            "overflow_x": null,
            "grid_auto_flow": null,
            "grid_area": null,
            "grid_template_columns": null,
            "flex": null,
            "_model_name": "LayoutModel",
            "justify_items": null,
            "grid_row": null,
            "max_height": null,
            "align_content": null,
            "visibility": null,
            "align_self": null,
            "height": null,
            "min_height": null,
            "padding": null,
            "grid_auto_rows": null,
            "grid_gap": null,
            "max_width": null,
            "order": null,
            "_view_module_version": "1.2.0",
            "grid_template_areas": null,
            "object_position": null,
            "object_fit": null,
            "grid_auto_columns": null,
            "margin": null,
            "display": null,
            "left": null
          }
        },
        "a47e84eb56ae4f2fae697618dd30520f": {
          "model_module": "@jupyter-widgets/controls",
          "model_name": "DescriptionStyleModel",
          "state": {
            "_view_name": "StyleView",
            "_model_name": "DescriptionStyleModel",
            "description_width": "",
            "_view_module": "@jupyter-widgets/base",
            "_model_module_version": "1.5.0",
            "_view_count": null,
            "_view_module_version": "1.2.0",
            "_model_module": "@jupyter-widgets/controls"
          }
        },
        "fd33650d6a6a46aebec8396a7617e6e0": {
          "model_module": "@jupyter-widgets/base",
          "model_name": "LayoutModel",
          "state": {
            "_view_name": "LayoutView",
            "grid_template_rows": null,
            "right": null,
            "justify_content": null,
            "_view_module": "@jupyter-widgets/base",
            "overflow": null,
            "_model_module_version": "1.2.0",
            "_view_count": null,
            "flex_flow": null,
            "width": null,
            "min_width": null,
            "border": null,
            "align_items": null,
            "bottom": null,
            "_model_module": "@jupyter-widgets/base",
            "top": null,
            "grid_column": null,
            "overflow_y": null,
            "overflow_x": null,
            "grid_auto_flow": null,
            "grid_area": null,
            "grid_template_columns": null,
            "flex": null,
            "_model_name": "LayoutModel",
            "justify_items": null,
            "grid_row": null,
            "max_height": null,
            "align_content": null,
            "visibility": null,
            "align_self": null,
            "height": null,
            "min_height": null,
            "padding": null,
            "grid_auto_rows": null,
            "grid_gap": null,
            "max_width": null,
            "order": null,
            "_view_module_version": "1.2.0",
            "grid_template_areas": null,
            "object_position": null,
            "object_fit": null,
            "grid_auto_columns": null,
            "margin": null,
            "display": null,
            "left": null
          }
        }
      }
    }
  },
  "cells": [
    {
      "cell_type": "markdown",
      "metadata": {
        "id": "view-in-github",
        "colab_type": "text"
      },
      "source": [
        "<a href=\"https://colab.research.google.com/github/lucasgneccoh/SGD_ICP_PY/blob/main/main_final.ipynb\" target=\"_parent\"><img src=\"https://colab.research.google.com/assets/colab-badge.svg\" alt=\"Open In Colab\"/></a>"
      ]
    },
    {
      "cell_type": "markdown",
      "metadata": {
        "id": "htovwa9SD5XU"
      },
      "source": [
        "# Install authors implementation"
      ]
    },
    {
      "cell_type": "code",
      "metadata": {
        "id": "zTSbikgEGbfl"
      },
      "source": [
        "%%capture\n",
        "%cd /content\n",
        "!git clone https://bitbucket.org/fafz/sgd_icp.git\n",
        "!sudo apt install libeigen3-dev\n",
        "!sudo apt install libpcl-dev\n",
        "%cd /content/sgd_icp\n",
        "!mkdir build\n",
        "%cd build\n",
        "!cmake -DCMAKE_BUILD_TYPE=Release /content/sgd_icp\n",
        "!make"
      ],
      "execution_count": 219,
      "outputs": []
    },
    {
      "cell_type": "markdown",
      "metadata": {
        "id": "pJsUnC_JCy5M"
      },
      "source": [
        "# Project - SGD ICP in python\n",
        "Excecute this cell to import modules and define functions"
      ]
    },
    {
      "cell_type": "code",
      "metadata": {
        "id": "dW7ep3CSuFxb"
      },
      "source": [
        "# Clone the repository in the Colab drive\n",
        "# Build and Install pypcd to deal with pcd format clouds\n",
        "%%capture\n",
        "%cd /content\n",
        "!git clone https://github.com/lucasgneccoh/SGD_ICP_PY.git\n",
        "!pip install lzf\n",
        "'''\n",
        "Setup pypcd\n",
        "'''\n",
        "%cd /content/SGD_ICP_PY/pypcd/\n",
        "!python setup.py build\n",
        "!python setup.py install"
      ],
      "execution_count": 1,
      "outputs": []
    },
    {
      "cell_type": "code",
      "metadata": {
        "colab": {
          "base_uri": "https://localhost:8080/"
        },
        "id": "DGN9pzt8NslB",
        "outputId": "e77e9c32-b7d6-4f27-cead-da453238aa1f"
      },
      "source": [
        "%cd /content/SGD_ICP_PY/sgd_icp_python\n",
        "import os\n",
        "import numpy as np\n",
        "from pypcd import pypcd as pcd\n",
        "from google.colab import files\n",
        "import json\n",
        "import matplotlib.pyplot as plt\n",
        "# Import numpy package and name it \"np\"\n",
        "import numpy as np\n",
        "\n",
        "# Import library to plot in python\n",
        "from matplotlib import pyplot as plt\n",
        "\n",
        "# Import functions from scikit-learn\n",
        "from sklearn.neighbors import KDTree\n",
        "\n",
        "# Import functions to read and write ply files\n",
        "from ply_utils import write_ply, read_ply\n",
        "from visu import show_ICP\n",
        "import time\n",
        "\n",
        "import torch\n",
        "from tqdm.notebook import trange, tqdm\n",
        "import plotly.express as px\n",
        "import pandas as pd\n",
        "\n",
        "device = 'cuda' if torch.cuda.is_available() else 'cpu'\n",
        "\n",
        "def quaternion_rotation_matrix(Q):\n",
        "    \"\"\"\n",
        "    Covert a quaternion into a full three-dimensional rotation matrix.\n",
        " \n",
        "    Input\n",
        "    :param Q: A 4 element array representing the quaternion (q0,q1,q2,q3) \n",
        " \n",
        "    Output\n",
        "    :return: A 3x3 element matrix representing the full 3D rotation matrix. \n",
        "             This rotation matrix converts a point in the local reference \n",
        "             frame to a point in the global reference frame.\n",
        "    \"\"\"\n",
        "    # Extract the values from Q\n",
        "    q0 = Q[0]\n",
        "    q1 = Q[1]\n",
        "    q2 = Q[2]\n",
        "    q3 = Q[3]\n",
        "     \n",
        "    # First row of the rotation matrix\n",
        "    r00 = 2 * (q0 * q0 + q1 * q1) - 1\n",
        "    r01 = 2 * (q1 * q2 - q0 * q3)\n",
        "    r02 = 2 * (q1 * q3 + q0 * q2)\n",
        "     \n",
        "    # Second row of the rotation matrix\n",
        "    r10 = 2 * (q1 * q2 + q0 * q3)\n",
        "    r11 = 2 * (q0 * q0 + q2 * q2) - 1\n",
        "    r12 = 2 * (q2 * q3 - q0 * q1)\n",
        "     \n",
        "    # Third row of the rotation matrix\n",
        "    r20 = 2 * (q1 * q3 - q0 * q2)\n",
        "    r21 = 2 * (q2 * q3 + q0 * q1)\n",
        "    r22 = 2 * (q0 * q0 + q3 * q3) - 1\n",
        "     \n",
        "    # 3x3 rotation matrix\n",
        "    rot_matrix = np.array([[r00, r01, r02],\n",
        "                           [r10, r11, r12],\n",
        "                           [r20, r21, r22]])\n",
        "                            \n",
        "    return rot_matrix\n",
        "\n",
        "def pitch_roll_yaw(ax, ay, az):\n",
        "  cx, sx = np.cos(ax), np.sin(ax)\n",
        "  cy, sy = np.cos(ay), np.sin(ay)\n",
        "  cz, sz = np.cos(az), np.sin(az)\n",
        "  \n",
        "  R = np.array([[cz*cy, cz*sx*sy-sz*cx, cz*sx*sy+sz*sy],\n",
        "                [sz*cy, sz*sx*sy+cz*cx, sz*sx*sy-cz*sx],\n",
        "                [-sy, cy*sx, cy*cx]])\n",
        "  return R\n",
        "\n",
        "def d_R(ax, ay, az):\n",
        "  cx, sx = np.cos(ax), np.sin(ax)\n",
        "  cy, sy = np.cos(ay), np.sin(ay)\n",
        "  cz, sz = np.cos(az), np.sin(az)\n",
        "  \n",
        "  d_roll = np.array([[0, 0, 0],\n",
        "                [cx*sy*cz-sx*sz, -cx*sy*sz-sx*cz, -cx*cy],\n",
        "                [sx*sy*cz + cx*sz, -sx*sy*sz+cx*cz,-sx*cy]])\n",
        "  \n",
        "  d_pitch = np.array([[-sy*cz, sy*sz, cy],\n",
        "                [sx*cy*cz, -sx*cy*sz, sx*sy],\n",
        "                [-cx*cy*cz, cx*cy*sz, -cx*sy]])\n",
        "  \n",
        "  d_yaw = np.array([[-cy*sz, -cy*cz, 0],\n",
        "                [-sx*sy*sz+cx*cz, -sx*sy*cz-cx*sz, 0],\n",
        "                [cx*sy*sz + sx*cz, cx*sy*cz-sx*sz, 0]])\n",
        "  return d_roll, d_pitch, d_yaw\n",
        "\n",
        "\n",
        "def add_noise(pc, mean, std):\n",
        "  return pc + np.random.normal(loc=mean, scale=std, size=pc.shape)\n",
        "\n",
        "def apply_transform(pc, R, t):\n",
        "  if isinstance(pc, pcd.PointCloud):\n",
        "    cloud = np.vstack([pc.pc_data['x'], pc.pc_data['y'], pc.pc_data['z']])\n",
        "    cloud = R @ cloud + t.reshape(-1,1)\n",
        "    for a, i in zip(['x', 'y', 'z'], range(3)):\n",
        "      pc.pc_data[a] = cloud[i,:]\n",
        "  else:\n",
        "    pc = R @ pc +  t.reshape(-1,1)    \n",
        "  return pc\n",
        "\n",
        "def apply_transform_from_theta(pc, theta):\n",
        "  R, T = theta_to_tranformation(theta)\n",
        "  return apply_transform(pc, R, T)\n",
        "\n",
        "\n",
        "def roll_pitch_yaw(ax, ay, az):\n",
        "  cx, sx = np.cos(ax), np.sin(ax)\n",
        "  cy, sy = np.cos(ay), np.sin(ay)\n",
        "  cz, sz = np.cos(az), np.sin(az)\n",
        "  \n",
        "  Rx = np.array([[1.0,0.0,0.0],\n",
        "                 [0.0, cx, -sx],\n",
        "                 [0.0, sx, cx]])\n",
        "  Ry = np.array([[cy,0.0,sy],\n",
        "                 [0.0, 1.0, 0.0],\n",
        "                 [-sy, 0.0, cy]])\n",
        "  Rz = np.array([[cz,-sz,0.0],\n",
        "                 [sz, cz, 0.0],\n",
        "                 [0.0, 0.0, 1.0]])\n",
        "  return Rx @ Ry @ Rz\n",
        "\n",
        "def theta_to_tranformation(theta):\n",
        "  R, T = roll_pitch_yaw(*theta[3:]), theta[:3].copy().reshape(-1,1)\n",
        "  return R, T\n",
        "\n",
        "def gradient_wrt_theta(source, ref, theta):\n",
        "  R, T = theta_to_tranformation(theta)\n",
        "  ins = (R @ source + T) - ref # 3 x M\n",
        "  # w.r.t T, it is already in ins\n",
        "  # w.r.t R  \n",
        "  d = list(d_R(*theta[3:]))\n",
        "  D = np.array([((a @ source)*ins).sum(0).mean() for a in d])\n",
        "  # print(D)\n",
        "\n",
        "  return np.hstack([2*D, 2*ins.mean(axis=1)]) \n",
        "\n",
        "def gradient_wrt_R_T(source, ref, R, T):\n",
        "  ins = (R @ source + T) - ref # 3 x M  \n",
        "  gradR, M = np.zeros_like(R), source.shape[1]\n",
        "  for i, s in zip(ins.T, source.T):\n",
        "    gradR += 1.0/M * (i.reshape(3,1) @ s.reshape(1,3))\n",
        "  gradT = (ins.mean(axis=1)).reshape(3,1)\n",
        "  return 2*gradR, 2*gradT \n",
        "\n",
        "def read_pcd(path):\n",
        "  pc = pcd.point_cloud_from_path(path)\n",
        "  return np.vstack([pc.pc_data['x'], pc.pc_data['y'], pc.pc_data['z']])\n",
        "\n",
        "def dropout(cloud, drop_prop):\n",
        "  ind = (np.random.uniform(size=cloud.shape[1])>drop_prop)\n",
        "  return cloud[:,ind]\n",
        "\n",
        "def normalize(cloud, eps=1e-4, and_center=True):\n",
        "  M, m = cloud.max(1), cloud.min(1)\n",
        "  dif = np.maximum(M-m,eps).reshape(-1,1)\n",
        "  normal = (cloud - m.reshape(-1,1))/dif\n",
        "  if and_center:\n",
        "    normal = normal - normal.mean(axis=1).reshape(-1,1)\n",
        "  return normal\n",
        "\n",
        "def crop_cloud_sphere(cloud, radius):\n",
        "  ind = (np.linalg.norm(cloud, axis=0)<radius)\n",
        "  return cloud[:,ind]\n",
        "\n",
        "def save_whole_cloud_pcd(paths_in, path_out):\n",
        "  start = True\n",
        "  whole = None\n",
        "  for path_in in paths_in:\n",
        "    pc = pcd.point_cloud_from_path(path_in)\n",
        "    meta = pc.get_metadata()\n",
        "    trans = np.array(meta['viewpoint'][:3])\n",
        "    rot = quaternion_rotation_matrix(meta['viewpoint'][3:]).T\n",
        "    \n",
        "    cloud = np.vstack([pc.pc_data['x'], pc.pc_data['y'], pc.pc_data['z']])\n",
        "    \n",
        "    rotated = rot.T @ cloud + trans.reshape(-1,1)\n",
        "    \n",
        "    pc.pc_data['x'] = rotated[0,:]\n",
        "    pc.pc_data['y'] = rotated[1,:]\n",
        "    pc.pc_data['z'] = rotated[2,:]\n",
        "    if start:\n",
        "      start = False\n",
        "      whole = pc\n",
        "    else:\n",
        "      whole = pcd.cat_point_clouds(whole, pc)\n",
        "      \n",
        "  whole.save_pcd(path_out)\n",
        "\n",
        "\n",
        "def plot_clouds(source, ref, test, drop_rate = 0.9, size=1, careful = True):\n",
        "  sp = dropout(source, drop_rate)\n",
        "  rp = dropout(ref, drop_rate)  \n",
        "  tp = dropout(test, drop_rate)\n",
        "  if careful and max(sp.shape[1], rp.shape[1], tp.shape[1]) > 400:\n",
        "    print(\"Careful mode: Too many points, performing more down sampling\")\n",
        "    sp = dropout(sp, 1- 400.0/sp.shape[1])\n",
        "    rp = dropout(rp, 1- 400.0/rp.shape[1])\n",
        "    tp = dropout(tp, 1- 400.0/tp.shape[1])\n",
        "\n",
        "  df = pd.concat([pd.DataFrame(data={'cloud':'source','x':sp[0,:],'y':sp[1,:],'z':sp[2,:]}),\n",
        "                  pd.DataFrame(data={'cloud':'ref','x':rp[0,:],'y':rp[1,:],'z':rp[2,:]}),\n",
        "                  pd.DataFrame(data={'cloud':'icp','x':tp[0,:],'y':tp[1,:],'z':tp[2,:]})\n",
        "                  ])\n",
        "  df['size'] = size\n",
        "  fig = px.scatter_3d(df, x='x', y='y', z='z',\n",
        "                color='cloud')\n",
        "  fig.show()\n",
        "\n",
        "def rotation_matrix(roll, pitch, yaw, device='cpu'):  \n",
        "  tensor_0 = torch.zeros(1, device=device)\n",
        "  tensor_1 = torch.ones(1, device=device)\n",
        "\n",
        "  RX = torch.stack([\n",
        "                  torch.stack([tensor_1, tensor_0, tensor_0]),\n",
        "                  torch.stack([tensor_0, torch.cos(roll), -torch.sin(roll)]),\n",
        "                  torch.stack([tensor_0, torch.sin(roll), torch.cos(roll)])]).reshape(3,3)\n",
        "\n",
        "  RY = torch.stack([\n",
        "                  torch.stack([torch.cos(pitch), tensor_0, torch.sin(pitch)]),\n",
        "                  torch.stack([tensor_0, tensor_1, tensor_0]),\n",
        "                  torch.stack([-torch.sin(pitch), tensor_0, torch.cos(pitch)])]).reshape(3,3)\n",
        "\n",
        "  RZ = torch.stack([\n",
        "                  torch.stack([torch.cos(yaw), -torch.sin(yaw), tensor_0]),\n",
        "                  torch.stack([torch.sin(yaw), torch.cos(yaw), tensor_0]),\n",
        "                  torch.stack([tensor_0, tensor_0, tensor_1])]).reshape(3,3)\n",
        "\n",
        "  R = torch.mm(RX, RY)\n",
        "  R = torch.mm(R, RZ)\n",
        "  return R\n",
        "\n",
        "\n",
        "def match_points_pytorch(transformed, ref_torch):\n",
        "  r1, r2 = torch.norm(transformed, dim=0, keepdim=True), torch.norm(ref_torch, dim=0, keepdim=True)  \n",
        "  dist = r2 - 2* torch.mm(transformed.T, ref_torch)  + r1.T\n",
        "  return dist.argmin(dim=1)"
      ],
      "execution_count": 2,
      "outputs": [
        {
          "output_type": "stream",
          "text": [
            "/content/SGD_ICP_PY/sgd_icp_python\n"
          ],
          "name": "stdout"
        }
      ]
    },
    {
      "cell_type": "markdown",
      "metadata": {
        "id": "HvxX0IpkcoN7"
      },
      "source": [
        "# ICP code from class\n",
        "Excecute this cell to import modules and define functions\n",
        "Here is also the first implementation of sgd_icp in plain Python"
      ]
    },
    {
      "cell_type": "code",
      "metadata": {
        "id": "1J2ptDyd9qKE"
      },
      "source": [
        "#\n",
        "#\n",
        "#      0===================================0\n",
        "#      |    TP2 Iterative Closest Point    |\n",
        "#      0===================================0\n",
        "#\n",
        "#-------------------------------------------------------------------\n",
        "#\n",
        "#      Hugues THOMAS - 17/01/2018\n",
        "\n",
        "\n",
        "def best_rigid_transform(data, ref):\n",
        "    '''\n",
        "    Computes the least-squares best-fit transform that maps corresponding points data to ref.\n",
        "    Inputs :\n",
        "        data = (d x N) matrix where \"N\" is the number of points and \"d\" the dimension\n",
        "         ref = (d x N) matrix where \"N\" is the number of points and \"d\" the dimension\n",
        "    Returns :\n",
        "           R = (d x d) rotation matrix\n",
        "           T = (d x 1) translation vector\n",
        "           Such that R * data + T is aligned on ref\n",
        "    '''\n",
        "    \n",
        "    \n",
        "    p = ref.mean(1).reshape(-1,1)\n",
        "    p_prime = data.mean(1).reshape(-1,1)    \n",
        "    U, S, V = np.linalg.svd((data-p_prime) @ (ref-p).T, full_matrices=False)\n",
        "    V = V.T\n",
        "    R = V @ U.T\n",
        "    if np.linalg.det(R)<0:\n",
        "        U[:,-1] *= -1\n",
        "        R = V @ U.T\n",
        "    \n",
        "    T = p - R @ p_prime\n",
        "    return R, T.reshape(-1,1)\n",
        "\n",
        "\n",
        "def icp_point_to_point(data, ref, max_iter, RMS_threshold, show_progress=False):\n",
        "    '''\n",
        "    Iterative closest point algorithm with a point to point strategy.\n",
        "    Inputs :\n",
        "        data = (d x N_data) matrix where \"N_data\" is the number of points and \"d\" the dimension\n",
        "        ref = (d x N_ref) matrix where \"N_ref\" is the number of points and \"d\" the dimension\n",
        "        max_iter = stop condition on the number of iterations\n",
        "        RMS_threshold = stop condition on the distance\n",
        "    Returns :\n",
        "        data_aligned = data aligned on reference cloud\n",
        "        R_list = list of the (d x d) rotation matrices found at each iteration\n",
        "        T_list = list of the (d x 1) translation vectors found at each iteration\n",
        "        neighbors_list = At each iteration, you search the nearest neighbors of each data point in\n",
        "        the ref cloud and this obtain a (1 x N_data) array of indices. This is the list of those\n",
        "        arrays at each iteration\n",
        "           \n",
        "    '''\n",
        "\n",
        "    # Variable for aligned data\n",
        "    data_aligned = np.copy(data)\n",
        "    \n",
        "    # Initiate lists\n",
        "    R_list = []\n",
        "    T_list = []\n",
        "    neighbors_list = []\n",
        "    RMS_list = []\n",
        "    tree = KDTree(ref.T)\n",
        "    for i in range(max_iter):\n",
        "        # Match points\n",
        "        ind = tree.query(data_aligned.T, return_distance=False).squeeze()\n",
        "        #ICP\n",
        "        R, T = best_rigid_transform(data, ref[:,ind])\n",
        "        data_aligned = R @ data + T\n",
        "        neighbors_list.append(ind)        \n",
        "        R_list.append(R)\n",
        "        T_list.append(T)\n",
        "        rms = RMS(data_aligned, ref[:,ind])\n",
        "        RMS_list.append(rms)\n",
        "        if show_progress: print('{:.3f}'.format(rms))\n",
        "        if rms < RMS_threshold: break\n",
        "    return data_aligned, R_list, T_list, neighbors_list, RMS_list\n",
        "\n",
        "def icp_point_to_point_fast(data, ref, max_iter, RMS_threshold, sampling_limit, resample=False, show_progress=False):\n",
        "    '''\n",
        "    Iterative closest point algorithm with a point to point strategy.\n",
        "    Inputs :\n",
        "        data = (d x N_data) matrix where \"N_data\" is the number of points and \"d\" the dimension\n",
        "        ref = (d x N_ref) matrix where \"N_ref\" is the number of points and \"d\" the dimension\n",
        "        max_iter = stop condition on the number of iterations\n",
        "        RMS_threshold = stop condition on the distance\n",
        "    Returns :\n",
        "        data_aligned = data aligned on reference cloud\n",
        "        R_list = list of the (d x d) rotation matrices found at each iteration\n",
        "        T_list = list of the (d x 1) translation vectors found at each iteration\n",
        "        neighbors_list = At each iteration, you search the nearest neighbors of each data point in\n",
        "        the ref cloud and this obtain a (1 x N_data) array of indices. This is the list of those\n",
        "        arrays at each iteration\n",
        "           \n",
        "    '''\n",
        "\n",
        "    # Variable for aligned data\n",
        "    data_aligned = np.copy(data)\n",
        "    \n",
        "    # Initiate lists\n",
        "    R_list = []\n",
        "    T_list = []\n",
        "    neighbors_list = []\n",
        "    RMS_list = []\n",
        "    tree = KDTree(ref.T)\n",
        "    data_sample_ind = np.random.choice(data.shape[1], size= min(data.shape[1],sampling_limit), replace=False)\n",
        "    for i in range(max_iter):\n",
        "        if resample:\n",
        "            # Sample\n",
        "            data_sample_ind = np.random.choice(data.shape[1], size= min(data.shape[1],sampling_limit), replace=False)\n",
        "        \n",
        "    \n",
        "        # Match points\n",
        "        ind = tree.query(data_aligned[:,data_sample_ind].T, return_distance=False).squeeze()\n",
        "        #ICP\n",
        "        R, T = best_rigid_transform(data[:,data_sample_ind], ref[:,ind])\n",
        "        \n",
        "        data_aligned = R @ data + T\n",
        "        \n",
        "        neighbors_list.append((data_sample_ind,ind))        \n",
        "        R_list.append(R)\n",
        "        T_list.append(T)\n",
        "        ind = tree.query(data_aligned.T, return_distance=False).squeeze()\n",
        "        rms = RMS(data_aligned, ref[:,ind])\n",
        "        RMS_list.append(rms)\n",
        "        if show_progress: print('{:.3f}'.format(rms))\n",
        "        if rms < RMS_threshold: break\n",
        "    \n",
        "    return data_aligned, R_list, T_list, neighbors_list, RMS_list\n",
        "\n",
        "\n",
        "def sgd_icp(source, ref, epochs, RMS_threshold, batch_size, dmax,\n",
        "            show_progress=False, eval_every = 1, theta_init=None,\n",
        "            alpha = lambda i: 0.001, beta1=0.9, beta2=0.999, eps=1e-6,\n",
        "            resample=False):\n",
        "    '''\n",
        "    Iterative closest point algorithm using sgd\n",
        "    Inputs :\n",
        "        source = (d x N_source) matrix where \"N_source\" is the number of points and \"d\" the dimension\n",
        "        ref = (d x N_ref) matrix where \"N_ref\" is the number of points and \"d\" the dimension\n",
        "        epochs = stop condition on the number of iterations\n",
        "        RMS_threshold = stop condition on the distance\n",
        "    Returns :\n",
        "        data_aligned = data aligned on reference cloud\n",
        "        R_list = list of the (d x d) rotation matrices found at each iteration\n",
        "        T_list = list of the (d x 1) translation vectors found at each iteration\n",
        "        neighbors_list = At each iteration, you search the nearest neighbors of each data point in\n",
        "        the ref cloud and this obtain a (1 x N_data) array of indices. This is the list of those\n",
        "        arrays at each iteration\n",
        "           \n",
        "    '''\n",
        "    # Initiate lists\n",
        "    R_list, T_list, norms_list, RMS_list, rms = [], [], [], [], 0     \n",
        "    tree, N = KDTree(ref.T), source.shape[1]    \n",
        "    indices, total_time, last_epoch_time = np.arange(N), 0, 0   \n",
        "    beta1t, beta2t = beta1, beta2\n",
        "\n",
        "    if theta_init is None:\n",
        "      theta = np.zeros(6)\n",
        "    else:\n",
        "      theta = theta_init.copy()\n",
        "\n",
        "    \n",
        "    mR, vR = np.zeros_like(theta), np.zeros_like(theta)\n",
        "    mhatR, vhatR = np.zeros_like(theta), np.zeros_like(theta)\n",
        "\n",
        "    for i in tqdm(range(epochs)):\n",
        "      start = time.process_time()\n",
        "      \n",
        "      # Shuffle the indices\n",
        "      np.random.shuffle(indices)\n",
        "      \n",
        "      for b in range(N//batch_size):\n",
        "        # print(f'\\tBatch {b} out of {N//batch_size}')\n",
        "        if resample:\n",
        "          batch_ind = np.random.choice(N, batch_size, replace=False)\n",
        "        else:\n",
        "          batch_ind = indices[batch_size*b:batch_size*(b+1)]\n",
        "    \n",
        "        # Match points        \n",
        "        transformed = apply_transform_from_theta(source[:,batch_ind], theta)\n",
        "        ind = match_points(transformed, tree)\n",
        "                \n",
        "        #ICP in class\n",
        "        # R, T = best_rigid_transform(source[:,batch_ind], ref[:,ind])\n",
        "        \n",
        "        #SGD_ICP\n",
        "        gradR = gradient_wrt_theta(source[:,batch_ind], ref[:,ind], theta)\n",
        "        norms_list.append(np.linalg.norm(gradR))\n",
        "        \n",
        "        mR, vR = beta1*mR + (1-beta1)*gradR, beta2*vR + (1-beta2)*gradR*gradR\n",
        "        mhatR, vhatR = mR/(1-beta1t), vR/(1-beta2t)\n",
        "        \n",
        "        beta1t *= beta1\n",
        "        beta2t *= beta2\n",
        "        if beta2 > 0:          \n",
        "          sgdR = mhatR / (np.sqrt(vhatR)+eps)\n",
        "        else:          \n",
        "          sgdR = mhatR\n",
        "        \n",
        "        theta = theta - alpha(i)*sgdR        \n",
        "                    \n",
        "      R, T = theta_to_tranformation(theta)\n",
        "      R_list.append(R.copy())\n",
        "      T_list.append(T.copy())\n",
        "      if (i+1)%eval_every==0:        \n",
        "        # Compute RMS        \n",
        "        transformed = apply_transform(source, R, T)\n",
        "        ind = tree.query(transformed.T, return_distance=False).squeeze()\n",
        "        rms = RMS(transformed, ref[:,ind])\n",
        "        RMS_list.append(rms)\n",
        "        if show_progress:\n",
        "          print(f'Epoch {i:02d}:\\ntotal time: {total_time:.1f}s\\tlast epoch: {last_epoch_time:.1f}s\\trms: {rms:.3f}')\n",
        "        \n",
        "        if rms < RMS_threshold: break\n",
        "      last_epoch_time = time.process_time() - start\n",
        "      total_time += last_epoch_time    \n",
        "    transformed = apply_transform(source, R, T)\n",
        "    return transformed, R_list, T_list, norms_list, RMS_list\n",
        "\n",
        "def match_points(transformed, tree, dmax = np.inf):\n",
        "  dist, ind = tree.query(transformed.T, return_distance=True)\n",
        "  dist, ind  = dist.squeeze(), ind.squeeze()\n",
        "  return ind[(dist<dmax)]\n",
        "\n",
        "def RMS(c1, c2):\n",
        "    return np.sqrt(np.mean(np.sum(np.power(c1 - c2, 2), axis=0)))\n",
        "\n",
        "\n",
        "def plain_array(arr, fields):\n",
        "  return np.array(np.vstack([arr[f] for f in fields]))\n",
        "\n",
        "def read_ply_file(path, fields):\n",
        "  ply_cloud = read_ply(path)  \n",
        "  return plain_array(ply_cloud, fields)\n",
        "\n",
        "def pcd_to_numpy(pc):\n",
        "  arr = np.zeros((3,len(pc.pc_data)))\n",
        "  arr[0,:] = pc.pc_data['x']\n",
        "  arr[1,:] = pc.pc_data['y']\n",
        "  arr[2,:] = pc.pc_data['z']\n",
        "  return arr\n",
        " "
      ],
      "execution_count": 6,
      "outputs": []
    },
    {
      "cell_type": "markdown",
      "metadata": {
        "id": "0iGczPLFI5R4"
      },
      "source": [
        "# Test the authors code with the Bremen cloud and the Bunny cloud"
      ]
    },
    {
      "cell_type": "markdown",
      "metadata": {
        "id": "MamlhJFkDVc3"
      },
      "source": [
        "## **Test authors implementation on the bunny cloud**"
      ]
    },
    {
      "cell_type": "code",
      "metadata": {
        "id": "hbtJKYb1_s6L"
      },
      "source": [
        "source = read_ply_file('/content/SGD_ICP_PY/data/bunny_original.ply',['x','y','z'])\n",
        "ref = read_ply_file('/content/SGD_ICP_PY/data/bunny_perturbed.ply',['x','y','z'])\n",
        "\n",
        "plot_clouds(source, ref, ref)"
      ],
      "execution_count": null,
      "outputs": []
    },
    {
      "cell_type": "code",
      "metadata": {
        "id": "b2nV7y2h79cm"
      },
      "source": [
        "'''\n",
        "Transforms the bunny in ply format to pcd format to be able to use it with the authors code\n",
        "'''\n",
        "fields = ['x','y','z']\n",
        "dt = np.dtype([(f, 'float32') for f in fields])\n",
        "for p in ['bunny_original', 'bunny_perturbed']:\n",
        "  path_input = os.path.join('/content/SGD_ICP_PY/data', p + '.ply')\n",
        "  source = read_ply_file(path_input, ['x','y','z'])\n",
        "  res = np.array(source.T, dtype=dt)\n",
        "  # res.dtype = dt\n",
        "  path_out = os.path.join('/content/SGD_ICP_PY/data', p + '.pcd')\n",
        "  pc = pcd.PointCloud.from_array(res)\n",
        "  pc.save_pcd(path_out)\n",
        "  pc = pcd.point_cloud_from_path(path_out)\n",
        "  pc.pc_data['x'] = source[0,:]\n",
        "  pc.pc_data['y'] = source[1,:]\n",
        "  pc.pc_data['z'] = source[2,:]\n",
        "  pc.save_pcd(path_out)\n"
      ],
      "execution_count": 359,
      "outputs": []
    },
    {
      "cell_type": "code",
      "metadata": {
        "colab": {
          "base_uri": "https://localhost:8080/"
        },
        "id": "bCHpIo8BX_kB",
        "outputId": "2e53e159-9181-4f86-dfc9-72ca7343953f"
      },
      "source": [
        "input = '/content/SGD_ICP_PY/data/bunny_original.pcd'\n",
        "source = pcd_to_numpy(pcd.point_cloud_from_path(input))\n",
        "plot_clouds(source,source, source)"
      ],
      "execution_count": 360,
      "outputs": [
        {
          "output_type": "execute_result",
          "data": {
            "text/plain": [
              "array([[-0.03334056, -0.04052266, -0.05847169, ..., -0.06888419,\n",
              "        -0.06909736, -0.06904293],\n",
              "       [ 0.03831694,  0.03972047, -0.00213994, ...,  0.0510544 ,\n",
              "         0.05398326,  0.05560543],\n",
              "       [ 0.05281038,  0.05431097,  0.06881585, ..., -0.03270832,\n",
              "        -0.03232504, -0.0321591 ]], dtype=float32)"
            ]
          },
          "metadata": {
            "tags": []
          },
          "execution_count": 360
        }
      ]
    },
    {
      "cell_type": "code",
      "metadata": {
        "id": "Goklr_EEHDfb"
      },
      "source": [
        "# Compare our transformation to the authors transformation\n",
        "input = '/content/SGD_ICP_PY/data/bunny_original.pcd'\n",
        "output = '/content/SGD_ICP_PY/data/bunny_authors.pcd'\n",
        "source = pcd_to_numpy(pcd.point_cloud_from_path(input))\n",
        "\n",
        "\n",
        "%cd /content/sgd_icp/bin\n",
        "x, y, z, roll, pitch, yaw = 0.01,0.03,0,0,0,np.pi/6\n",
        "!./transform_cloud --input $input --output $output --pose $x $y $z $roll $pitch $yaw\n",
        "\n",
        "ref = pcd_to_numpy(pcd.point_cloud_from_path(output))\n",
        "\n",
        "R, T = roll_pitch_yaw(roll, pitch, yaw), np.array([x,y,z])\n",
        "test = apply_transform(source, R, T)\n",
        "\n",
        "plot_clouds(source, ref, test, drop_rate=0.95, size = 1, careful=False)\n",
        "# ref and test should be the same, meaning authors tranformations and ours coincide"
      ],
      "execution_count": null,
      "outputs": []
    },
    {
      "cell_type": "code",
      "metadata": {
        "id": "ZGaX9X9Y7UEb",
        "colab": {
          "base_uri": "https://localhost:8080/"
        },
        "outputId": "8ccfbb88-d5cd-4381-a194-187465808f22"
      },
      "source": [
        "if True: # This can take time \n",
        "  # Prepare config file\n",
        "  config_def = '/content/sgd_icp/config.json'\n",
        "  with open(config_def) as f:\n",
        "    config_dict = json.load(f)\n",
        "  config_dict['normalize-cloud'] = True\n",
        "  initial_guess = {'x': 0.0, 'y': 0.0, 'z': 0.0, 'roll': 0.2, 'pitch': 0.0, 'yaw': 0.0}\n",
        "  config_dict['initial-guess'] = initial_guess\n",
        "\n",
        "\n",
        "  source = '/content/SGD_ICP_PY/data/bunny_original.pcd'\n",
        "  ref = '/content/SGD_ICP_PY/data/bunny_perturbed.pcd'\n",
        "  config_path = '/content/sgd_icp/my_config.json'\n",
        "  with open(config_path, 'w') as f:\n",
        "    json.dump(config_dict, f)\n",
        "  # Test here. Uses PCD format for the clouds. Config file example is given in repository: JSON file with parameters\n",
        "  # align_pcd <source_cloud> <target_cloud> <cofig_file>\n",
        "\n",
        "  %cd /content/sgd_icp/bin\n",
        "  \n",
        "  !./align_pcd $source $ref $config_path"
      ],
      "execution_count": 363,
      "outputs": [
        {
          "output_type": "stream",
          "text": [
            "/content/sgd_icp/bin\n",
            "Convergence achieved\n",
            "Iterations: 41 converged: 1\n",
            "ICP Duration: 17 ms\n",
            "RMSE: 0.0816544\n",
            "Transformation_matrix:\n",
            "   0.988567   -0.147452   0.0315242  0.00947917\n",
            "   0.150779    0.968504   -0.198158  0.00394455\n",
            "-0.00131248    0.200645    0.979663  -0.0187244\n",
            "          0           0           0           1\n",
            "[x, y, z, roll, pitch, yaw] = [0.00947917,0.00394455,-0.0187244,0.202017,0.00131248,0.151356]\n"
          ],
          "name": "stdout"
        }
      ]
    },
    {
      "cell_type": "code",
      "metadata": {
        "id": "B_D5A_3V5ndf"
      },
      "source": [
        "%cd /content/SGD_ICP_PY\n",
        "# This values are the output of the sgd_icp method\n",
        "x, y, z, roll, pitch, yaw = 0.00947917,0.00394455,-0.0187244,0.202017,0.00131248,0.151356\n",
        "# x, y, z, roll, pitch, yaw = 0.00892445,0.00996263,0.0126189,0.0934348,0.0311362,0.0600543\n",
        "R, T = roll_pitch_yaw(roll, pitch, yaw), np.array([x,y,z])\n",
        "\n",
        "source = read_ply_file('/content/SGD_ICP_PY/data/bunny_original.ply',['x','y','z'])\n",
        "test = source.copy()\n",
        "ref = read_ply_file('/content/SGD_ICP_PY/data/bunny_perturbed.ply',['x','y','z'])\n",
        "\n",
        "test = apply_transform(source, R, T)\n",
        "\n",
        "plot_clouds(source, ref, test, drop_rate=0.95, careful=False)\n",
        "# files.download('./data/pcd_bremen/my_bremen_sgd_icp.pcd')"
      ],
      "execution_count": null,
      "outputs": []
    },
    {
      "cell_type": "markdown",
      "metadata": {
        "id": "FdICxac5DZnz"
      },
      "source": [
        "##**Test it on the Bremen cloud**"
      ]
    },
    {
      "cell_type": "code",
      "metadata": {
        "id": "F0e0fp_XvGOn",
        "colab": {
          "base_uri": "https://localhost:8080/"
        },
        "outputId": "dab11a56-0b8d-49ff-ecae-fbec10df9fb1"
      },
      "source": [
        "'''\n",
        "Build an unified cloud using different parts from the Bremen dataset\n",
        "'''\n",
        "%cd /content/SGD_ICP_PY\n",
        "parts = [0, 1]\n",
        "path_out = '/content/SGD_ICP_PY/data/pcd_bremen/my_bremen.pcd'\n",
        "\n",
        "paths_in = ['/content/SGD_ICP_PY/data/pcd_bremen/pcd_bremen/scan_0{0:02d}.pcd'.format(i) for i in parts]\n",
        "save_whole_cloud_pcd(paths_in, path_out)\n",
        "# files.download(path_out) # If you want to download the cloud to your machine\n",
        "\n",
        "\n",
        "# Create a copy but rotated and translated to try to align them\n",
        "x, y, z, roll, pitch, yaw = 0.1,0.5,0,0,0,np.pi/6\n",
        "R, T = roll_pitch_yaw(roll, pitch, yaw), np.array([x,y,z])\n",
        "pc = pcd.point_cloud_from_path(path_out)\n",
        "pc = apply_transform(pc, R, T)\n",
        "\n",
        "path_out_mod = '/content/SGD_ICP_PY/data/pcd_bremen/my_bremen_mod.pcd'\n",
        "pc.save_pcd(path_out_mod)\n",
        "# files.download(path_out_mod) # If you want to download the cloud to your machine"
      ],
      "execution_count": 366,
      "outputs": [
        {
          "output_type": "stream",
          "text": [
            "/content/SGD_ICP_PY\n"
          ],
          "name": "stdout"
        }
      ]
    },
    {
      "cell_type": "code",
      "metadata": {
        "colab": {
          "base_uri": "https://localhost:8080/"
        },
        "id": "OGNiXJd7Dcdj",
        "outputId": "d74962d0-aab9-47a7-88ea-c3db300cffd2"
      },
      "source": [
        "'''\n",
        "It seems like the cloud is too big. \n",
        "For some reason the functions gets stuck at the end\n",
        "'''\n",
        "if True: # This can take time \n",
        "  # Prepare config file\n",
        "  config_def = '/content/sgd_icp/config.json'\n",
        "  with open(config_def) as f:\n",
        "    config_dict = json.load(f)\n",
        "  config_dict['normalize-cloud'] = False\n",
        "  initial_guess = {'x': 0.1, 'y': 0.3, 'z': 0.0, 'roll': 0.0, 'pitch': 0.0, 'yaw': 0.3}\n",
        "  config_dict['initial-guess'] = initial_guess\n",
        "\n",
        "\n",
        "  source = '/content/SGD_ICP_PY/data/pcd_bremen/my_bremen.pcd'\n",
        "  ref = '/content/SGD_ICP_PY/data/pcd_bremen/my_bremen_mod.pcd'\n",
        "  \n",
        "  config_path = '/content/sgd_icp/my_config.json'\n",
        "  with open(config_path, 'w') as f:\n",
        "    json.dump(config_dict, f)\n",
        "  # Test here. Uses PCD format for the clouds. Config file example is given in repository: JSON file with parameters\n",
        "  # align_pcd <source_cloud> <target_cloud> <cofig_file>\n",
        "\n",
        "  %cd /content/sgd_icp/bin\n",
        "  \n",
        "  !./align_pcd $source $ref $config_path"
      ],
      "execution_count": 400,
      "outputs": [
        {
          "output_type": "stream",
          "text": [
            "Options:\n",
            "  --help                Show the help message\n",
            "  --source arg          Source point cloud\n",
            "  --target arg          Target point cloud\n",
            "  --config arg          Configuration\n",
            "\n"
          ],
          "name": "stdout"
        }
      ]
    },
    {
      "cell_type": "code",
      "metadata": {
        "id": "ESGmTcTzEXUT"
      },
      "source": [
        "%cd /content/SGD_ICP_PY\n",
        "# This values are the output of the sgd_icp method\n",
        "x, y, z, roll, pitch, yaw = 0.00426878,0.001404,0.0115587,0.197809,0.0598428,0.111875\n",
        "R, T = roll_pitch_yaw(roll, pitch, yaw), np.array([x,y,z])\n",
        "\n",
        "source = pcd_to_numpy(pcd.point_cloud_from_path('/content/SGD_ICP_PY/data/pcd_bremen/my_bremen.pcd'))\n",
        "ref = pcd_to_numpy(pcd.point_cloud_from_path('/content/SGD_ICP_PY/data/pcd_bremen/my_bremen_mod.pcd'))\n",
        "\n",
        "test = apply_transform(source, R, T)\n",
        "\n",
        "plot_clouds(source, ref, test, drop_rate=0.999, careful=False, size = 0.1)\n",
        "# files.download('./data/pcd_bremen/my_bremen_sgd_icp.pcd')"
      ],
      "execution_count": null,
      "outputs": []
    },
    {
      "cell_type": "markdown",
      "metadata": {
        "id": "s7qh7d2LJ3EH"
      },
      "source": [
        "# Test the ICP code from class and sgd_icp"
      ]
    },
    {
      "cell_type": "code",
      "metadata": {
        "id": "Q-HE3CGTcnlG"
      },
      "source": [
        "path = '/content/SGD_ICP_PY/data/bunny_original.ply'\n",
        "source = normalize(read_ply_file(path, ['x','y','z']))\n",
        "theta_orig = np.array([-1.0,-1.0,0.0, 0, np.pi/3, np.pi/3])\n",
        "ref_orig = apply_transform_from_theta(source, theta_orig)\n",
        "dif_centers = source.mean(axis=1) - ref_orig.mean(axis=1)\n",
        "ref_mean = ref_orig.mean(axis=1).reshape(-1,1)\n",
        "ref = ref_orig - ref_mean"
      ],
      "execution_count": 401,
      "outputs": []
    },
    {
      "cell_type": "code",
      "metadata": {
        "id": "JB9683dOFwLS"
      },
      "source": [
        "'''\n",
        "Both clouds are in correspondence, so the naive ICP will work.\n",
        "This functions assumes the clouds are already matched\n",
        "'''\n",
        "icp_cloud, R_list, T_list, _, RMS_list = icp_point_to_point(source, ref, 50, 1e-4, show_progress=False)\n",
        "plot_clouds(source, ref_orig, icp_cloud+ref_mean, drop_rate=0.97 , careful=False)"
      ],
      "execution_count": null,
      "outputs": []
    },
    {
      "cell_type": "code",
      "metadata": {
        "id": "0Mq0rwICuUZi"
      },
      "source": [
        "'''\n",
        "Now lets shuffle the reference and try again\n",
        "'''\n",
        "np.random.shuffle(ref.T)\n",
        "icp_cloud_shuffle, R_list_shuffle, T_list_shuffle, _, RMS_list_shuffle = \\\n",
        "  icp_point_to_point(source, ref, 50, 1e-4, show_progress=False)\n",
        "plot_clouds(source, ref_orig, icp_cloud_shuffle+ref_mean, drop_rate=0.97 , careful=False)"
      ],
      "execution_count": null,
      "outputs": []
    },
    {
      "cell_type": "code",
      "metadata": {
        "id": "uOna08O2ZjuA"
      },
      "source": [
        "'''\n",
        "Let's try SGD\n",
        "'''\n",
        "init, warm_up, decay = 0.1, 15, 0.999\n",
        "epochs = 50\n",
        "warm_up_decay = lambda i: i*(init/warm_up) if i < warm_up  else init*decay**(int((i-warm_up+1)))\n",
        "# Add noise to the real theta for the starting transformation\n",
        "theta_init = add_noise(theta_orig,0,0.2)\n",
        "\n",
        "icp_cloud_sgd, R_list_sgd, T_list_sgd, norms_list, RMS_list_sgd = sgd_icp(source, ref, epochs, 1e-4,\n",
        "            batch_size=10000, dmax=1,\n",
        "            show_progress=False, eval_every = 15, theta_init=theta_init,\n",
        "            alpha = warm_up_decay, beta1=0.9, beta2=0.999, eps=1e-6,\n",
        "            resample=False)\n",
        "plot_clouds(source, ref_orig, icp_cloud_shuffle+ref_mean, drop_rate=0.9 , careful=False)"
      ],
      "execution_count": null,
      "outputs": []
    },
    {
      "cell_type": "markdown",
      "metadata": {
        "id": "vyBCSStLndlH"
      },
      "source": [
        "**Bremen cloud**"
      ]
    },
    {
      "cell_type": "code",
      "metadata": {
        "id": "Z1s4b_P4nf3v"
      },
      "source": [
        "path = '/content/SGD_ICP_PY/data/pcd_bremen/my_bremen.pcd'\n",
        "source = normalize(pcd_to_numpy(pcd.point_cloud_from_path(path)))\n",
        "theta_orig = np.array([-1.0,-1.0,0.0, np.pi/2, np.pi/3, np.pi/3])\n",
        "ref_orig = apply_transform_from_theta(source, theta_orig)\n",
        "dif_centers = source.mean(axis=1) - ref_orig.mean(axis=1)\n",
        "ref_mean = ref_orig.mean(axis=1).reshape(-1,1)\n",
        "ref = ref_orig - ref_mean"
      ],
      "execution_count": 422,
      "outputs": []
    },
    {
      "cell_type": "code",
      "metadata": {
        "colab": {
          "base_uri": "https://localhost:8080/",
          "height": 331,
          "referenced_widgets": [
            "53ad59ae73db4beab5e0a414bdea08b9",
            "c97185726e52473698fcd3dfa95f10f0",
            "d0c20aef67914a92866efee3ae28c3c0",
            "917b0f73081b4e73b838835648d1c1bb",
            "2c476c14628d414bac9504a0b92e4531",
            "957dac19e8584c6aa38d61bab6884ae1",
            "a47e84eb56ae4f2fae697618dd30520f",
            "fd33650d6a6a46aebec8396a7617e6e0"
          ]
        },
        "id": "ONppWR_knvwq",
        "outputId": "adf1d97c-121e-4b94-afb2-31793b751736"
      },
      "source": [
        "'''\n",
        "Let's try SGD\n",
        "'''\n",
        "init, warm_up, decay = 0.01, 10, 0.999\n",
        "epochs = 50\n",
        "warm_up_decay = lambda i: i*(init/warm_up) if i < warm_up  else init*decay**(int((i-warm_up+1)))\n",
        "# Add noise to the real theta for the starting transformation\n",
        "theta_init = add_noise(theta_orig,0,0.2)\n",
        "\n",
        "icp_cloud_sgd, R_list_sgd, T_list_sgd, norms_list, RMS_list_sgd = sgd_icp(source, ref, epochs, 1e-4,\n",
        "            batch_size=10000, dmax=1,\n",
        "            show_progress=False, eval_every = 1, theta_init=theta_init,\n",
        "            alpha = warm_up_decay, beta1=0.9, beta2=0.999, eps=1e-6,\n",
        "            resample=False)\n",
        "\n",
        "# plot_clouds(source, ref_orig, icp_cloud_shuffle+ref_mean, drop_rate=0.9 , careful=True)\n",
        "plt.plot(RMS_list_sgd)"
      ],
      "execution_count": 430,
      "outputs": [
        {
          "output_type": "display_data",
          "data": {
            "application/vnd.jupyter.widget-view+json": {
              "model_id": "53ad59ae73db4beab5e0a414bdea08b9",
              "version_minor": 0,
              "version_major": 2
            },
            "text/plain": [
              "HBox(children=(FloatProgress(value=0.0, max=50.0), HTML(value='')))"
            ]
          },
          "metadata": {
            "tags": []
          }
        },
        {
          "output_type": "stream",
          "text": [
            "\n"
          ],
          "name": "stdout"
        },
        {
          "output_type": "execute_result",
          "data": {
            "text/plain": [
              "[<matplotlib.lines.Line2D at 0x7f9d5d3cf7d0>]"
            ]
          },
          "metadata": {
            "tags": []
          },
          "execution_count": 430
        },
        {
          "output_type": "display_data",
          "data": {
            "image/png": "[encoded data removed]",
            "text/plain": [
              "<Figure size 432x288 with 1 Axes>"
            ]
          },
          "metadata": {
            "tags": [],
            "needs_background": "light"
          }
        }
      ]
    },
    {
      "cell_type": "code",
      "metadata": {
        "colab": {
          "base_uri": "https://localhost:8080/",
          "height": 17
        },
        "id": "i0iGe0AIqRW3",
        "outputId": "8b55ce3b-dfc5-48ec-c62b-0a5eebb0c632"
      },
      "source": [
        "write_ply('/content/SGD_ICP_PY/data/pcd_bremen/my_bremen_sgd_icp.ply', icp_cloud_sgd.T, ['x', 'y', 'z'])\n",
        "files.download('/content/SGD_ICP_PY/data/pcd_bremen/my_bremen_sgd_icp.ply')"
      ],
      "execution_count": 429,
      "outputs": [
        {
          "output_type": "display_data",
          "data": {
            "application/javascript": [
              "\n",
              "    async function download(id, filename, size) {\n",
              "      if (!google.colab.kernel.accessAllowed) {\n",
              "        return;\n",
              "      }\n",
              "      const div = document.createElement('div');\n",
              "      const label = document.createElement('label');\n",
              "      label.textContent = `Downloading \"${filename}\": `;\n",
              "      div.appendChild(label);\n",
              "      const progress = document.createElement('progress');\n",
              "      progress.max = size;\n",
              "      div.appendChild(progress);\n",
              "      document.body.appendChild(div);\n",
              "\n",
              "      const buffers = [];\n",
              "      let downloaded = 0;\n",
              "\n",
              "      const channel = await google.colab.kernel.comms.open(id);\n",
              "      // Send a message to notify the kernel that we're ready.\n",
              "      channel.send({})\n",
              "\n",
              "      for await (const message of channel.messages) {\n",
              "        // Send a message to notify the kernel that we're ready.\n",
              "        channel.send({})\n",
              "        if (message.buffers) {\n",
              "          for (const buffer of message.buffers) {\n",
              "            buffers.push(buffer);\n",
              "            downloaded += buffer.byteLength;\n",
              "            progress.value = downloaded;\n",
              "          }\n",
              "        }\n",
              "      }\n",
              "      const blob = new Blob(buffers, {type: 'application/binary'});\n",
              "      const a = document.createElement('a');\n",
              "      a.href = window.URL.createObjectURL(blob);\n",
              "      a.download = filename;\n",
              "      div.appendChild(a);\n",
              "      a.click();\n",
              "      div.remove();\n",
              "    }\n",
              "  "
            ],
            "text/plain": [
              "<IPython.core.display.Javascript object>"
            ]
          },
          "metadata": {
            "tags": []
          }
        },
        {
          "output_type": "display_data",
          "data": {
            "application/javascript": [
              "download(\"download_e2f864d6-8c7c-415c-85a2-51a5331cf9af\", \"my_bremen_sgd_icp.ply\", 67342423)"
            ],
            "text/plain": [
              "<IPython.core.display.Javascript object>"
            ]
          },
          "metadata": {
            "tags": []
          }
        }
      ]
    },
    {
      "cell_type": "markdown",
      "metadata": {
        "id": "osHeYQYWFqpp"
      },
      "source": [
        "# Using Pytorch"
      ]
    },
    {
      "cell_type": "code",
      "metadata": {
        "id": "8tjnXtqrBTU3"
      },
      "source": [
        "'''\n",
        "ICP using SGD, implemented on PyTorch\n",
        "'''\n",
        "def run_icp_pytorch(path_input, theta_orig, noise_level=0.1, epochs=50,\n",
        "                    batch_size=128, resample=False, matching_technique='torch',\n",
        "                    plot=False, eval_every=1):\n",
        "  if '.ply' in path_input:\n",
        "    source = normalize(read_ply_file(path_input, ['x','y','z']), and_center=True)\n",
        "  elif '.pcd' in path_input:\n",
        "    source = normalize(pcd_to_numpy(pcd.point_cloud_from_path(path_input)), and_center=True)\n",
        "  else:    \n",
        "    raise Exception('Invalid input format. Only accepting ply and pcd') \n",
        "\n",
        "  ref_orig = apply_transform_from_theta(source, theta_orig)\n",
        "  dif_centers = source.mean(axis=1) - ref_orig.mean(axis=1)\n",
        "  ref_mean = ref_orig.mean(axis=1).reshape(-1,1)\n",
        "  ref = ref_orig - ref_mean\n",
        "\n",
        "  source_torch = torch.tensor(source, dtype=torch.float, device=device)\n",
        "  ref_torch = torch.tensor(ref, dtype=torch.float, device=device)\n",
        "\n",
        "  theta_noise = add_noise(theta_orig, 0, noise_level)\n",
        "  roll_opt = torch.tensor([float(theta_noise[3])], requires_grad=True, device=device)\n",
        "  pitch_opt = torch.tensor([float(theta_noise[4])], requires_grad=True, device=device)\n",
        "  yaw_opt = torch.tensor([float(theta_noise[5])], requires_grad=True, device=device)\n",
        "\n",
        "  T_opt = torch.zeros((3,1), requires_grad=True, device=device)\n",
        "\n",
        "  angles_optimizer = torch.optim.Adam(params = [roll_opt, pitch_opt, yaw_opt, T_opt])\n",
        "  # T_optimizer = torch.optim.Adam(params = [T_opt])\n",
        "  tree, N = KDTree(ref.T), source.shape[1]\n",
        "  indices = np.arange(N)\n",
        "  RMS_list = []\n",
        "  for i in tqdm(range(epochs)):\n",
        "    \n",
        "    np.random.shuffle(indices)\n",
        "\n",
        "    for b in range(N//batch_size):    \n",
        "      if resample:\n",
        "        batch_ind = np.random.choice(N, batch_size, replace=False)\n",
        "      else:\n",
        "        batch_ind = indices[batch_size*b:batch_size*(b+1)]\n",
        "\n",
        "      R_opt = rotation_matrix(roll_opt, pitch_opt, yaw_opt, device)\n",
        "\n",
        "      # Match points\n",
        "      if matching_technique == 'identity':\n",
        "        ind = batch_ind.copy()\n",
        "      else:      \n",
        "        transformed = (torch.mm(R_opt, source_torch[:,batch_ind])) + T_opt\n",
        "        if matching_technique == 'torch':\n",
        "          ind = match_points_pytorch(transformed, ref_torch)\n",
        "        elif matching_technique == 'kdtree': \n",
        "          ind = match_points(transformed.to('cpu').detach().numpy(), tree)\n",
        "          \n",
        "      angles_optimizer.zero_grad()    \n",
        "      loss = torch.norm((torch.mm(R_opt, source_torch[:,batch_ind]) + T_opt) - ref_torch[:,ind], p=2).mean()\n",
        "      loss.backward()\n",
        "      angles_optimizer.step()\n",
        "    \n",
        "    if (i+1)%eval_every==0:\n",
        "      with torch.no_grad():\n",
        "        \n",
        "        R_opt = rotation_matrix(roll_opt, pitch_opt, yaw_opt, device)\n",
        "        # Match points\n",
        "        if matching_technique == 'identity':\n",
        "          ind = np.arange(N)\n",
        "        else:      \n",
        "          transformed = (torch.mm(R_opt, source_torch)) + T_opt\n",
        "          if matching_technique == 'torch':\n",
        "            ind = match_points_pytorch(transformed, ref_torch)\n",
        "          elif matching_technique == 'kdtree': \n",
        "            ind = match_points(transformed.to('cpu').detach().numpy(), tree)\n",
        "        \n",
        "        loss = torch.norm((torch.mm(R_opt, source_torch) + T_opt) - ref_torch[:,ind], p=2).mean()\n",
        "        RMS_list.append(loss.item())\n",
        "\n",
        "\n",
        "  if plot:\n",
        "    R_opt = rotation_matrix(roll_opt, pitch_opt, yaw_opt, device)\n",
        "    test = torch.mm(R_opt, source_torch) + T_opt\n",
        "    plot_clouds(source, ref_orig, test.to('cpu').detach().numpy() + ref_mean, drop_rate = 0.9, careful=False)\n",
        "  return RMS_list, roll_opt, pitch_opt, yaw_opt, T_opt\n",
        "\n",
        "\n",
        "def run_icp_pytorch_two_clouds(path_input_source, path_input_ref, theta_init=None, epochs=50,\n",
        "                    batch_size=128, resample=False, matching_technique='torch',\n",
        "                    plot=False, eval_every=1):\n",
        "  if '.ply' in path_input_source:\n",
        "    source = normalize(read_ply_file(path_input_source, ['x','y','z']), and_center=True)\n",
        "  elif '.pcd' in path_input_source:\n",
        "    source = normalize(pcd_to_numpy(pcd.point_cloud_from_path(path_input_source)), and_center=True)\n",
        "  else:    \n",
        "    raise Exception('Invalid input format. Only accepting ply and pcd') \n",
        "\n",
        "\n",
        "  if '.ply' in path_input_ref:\n",
        "    ref_orig = normalize(read_ply_file(path_input_ref, ['x','y','z']), and_center=True)\n",
        "  elif '.pcd' in path_input_ref:\n",
        "    ref_orig = normalize(pcd_to_numpy(pcd.point_cloud_from_path(path_input_ref)), and_center=True)\n",
        "  else:    \n",
        "    raise Exception('Invalid input format. Only accepting ply and pcd') \n",
        "\n",
        "  dif_centers = source.mean(axis=1) - ref_orig.mean(axis=1)\n",
        "  ref_mean = ref_orig.mean(axis=1).reshape(-1,1)\n",
        "  ref = ref_orig - ref_mean\n",
        "\n",
        "  source_torch = torch.tensor(source, dtype=torch.float, device=device)\n",
        "  ref_torch = torch.tensor(ref, dtype=torch.float, device=device)\n",
        "\n",
        "  if theta_init is None:\n",
        "    theta_init=np.random.randn(6)\n",
        "  roll_opt = torch.tensor([float(theta_init[3])], requires_grad=True, device=device)\n",
        "  pitch_opt = torch.tensor([float(theta_init[4])], requires_grad=True, device=device)\n",
        "  yaw_opt = torch.tensor([float(theta_init[5])], requires_grad=True, device=device)\n",
        "\n",
        "  T_opt = torch.zeros((3,1), requires_grad=True, device=device)\n",
        "\n",
        "  angles_optimizer = torch.optim.Adam(params = [roll_opt, pitch_opt, yaw_opt, T_opt])\n",
        "  # T_optimizer = torch.optim.Adam(params = [T_opt])\n",
        "  tree, N = KDTree(ref.T), source.shape[1]\n",
        "  indices = np.arange(N)\n",
        "  RMS_list = []\n",
        "  for i in tqdm(range(epochs)):\n",
        "    \n",
        "    np.random.shuffle(indices)\n",
        "\n",
        "    for b in range(N//batch_size):    \n",
        "      if resample:\n",
        "        batch_ind = np.random.choice(N, batch_size, replace=False)\n",
        "      else:\n",
        "        batch_ind = indices[batch_size*b:batch_size*(b+1)]\n",
        "\n",
        "      R_opt = rotation_matrix(roll_opt, pitch_opt, yaw_opt, device)\n",
        "\n",
        "      # Match points\n",
        "      if matching_technique == 'identity':\n",
        "        ind = batch_ind.copy()\n",
        "      else:      \n",
        "        transformed = (torch.mm(R_opt, source_torch[:,batch_ind])) + T_opt\n",
        "        if matching_technique == 'torch':\n",
        "          ind = match_points_pytorch(transformed, ref_torch)\n",
        "        elif matching_technique == 'kdtree': \n",
        "          ind = match_points(transformed.to('cpu').detach().numpy(), tree)\n",
        "          \n",
        "      angles_optimizer.zero_grad()    \n",
        "      loss = torch.norm((torch.mm(R_opt, source_torch[:,batch_ind]) + T_opt) - ref_torch[:,ind], p=2).mean()\n",
        "      loss.backward()\n",
        "      angles_optimizer.step()\n",
        "    \n",
        "    if (i+1)%eval_every==0:\n",
        "      with torch.no_grad():\n",
        "        \n",
        "        R_opt = rotation_matrix(roll_opt, pitch_opt, yaw_opt, device)\n",
        "        # Match points\n",
        "        if matching_technique == 'identity':\n",
        "          ind = np.arange(N)\n",
        "        else:      \n",
        "          transformed = (torch.mm(R_opt, source_torch)) + T_opt\n",
        "          if matching_technique == 'torch':\n",
        "            ind = match_points_pytorch(transformed, ref_torch)\n",
        "          elif matching_technique == 'kdtree': \n",
        "            ind = match_points(transformed.to('cpu').detach().numpy(), tree)\n",
        "        \n",
        "        loss = torch.norm((torch.mm(R_opt, source_torch) + T_opt) - ref_torch[:,ind], p=2).mean()\n",
        "        RMS_list.append(loss.item())\n",
        "\n",
        "\n",
        "  if plot:\n",
        "    R_opt = rotation_matrix(roll_opt, pitch_opt, yaw_opt, device)\n",
        "    test = torch.mm(R_opt, source_torch) + T_opt\n",
        "    plot_clouds(source, ref_orig, test.to('cpu').detach().numpy() + ref_mean, drop_rate = 0.9, careful=False)\n",
        "  return RMS_list, roll_opt, pitch_opt, yaw_opt, T_opt"
      ],
      "execution_count": 3,
      "outputs": []
    },
    {
      "cell_type": "code",
      "metadata": {
        "id": "iqp9o_aKw2Dq"
      },
      "source": [
        "'''\n",
        "Define all parameters and run the function to align a cloud and a tranformed version\n",
        "'''\n",
        "path_input = '/content/SGD_ICP_PY/data/bunny_original.ply'\n",
        "\n",
        "# Define the transform (x,y,z,roll,pitch,yaw)\n",
        "theta_orig = np.array([-1.0,-1.0,+1.0, np.pi/2, np.pi/6*5, np.pi/3])\n",
        "\n",
        "# Noise to add to the groud truth parameters for the initial guess\n",
        "noise_level = 5\n",
        "\n",
        "epochs = 100\n",
        "batch_size = 1500\n",
        "\n",
        "# Consume the whole cloud before reshuffling, or resample at every batch step\n",
        "resample = False\n",
        "\n",
        "# Matching technique\n",
        "# Options are\n",
        "#   'identity': when matching is known\n",
        "#   'kdtree': Use sklearn KDTree built on the ref cloud\n",
        "#   'torch': Use matrix torch multiplication to compute distances\n",
        "matching_technique = 'identity' \n",
        "\n",
        "# Plot clouds at the end to see where the aligned cloud is w.r.t source and ref\n",
        "plot = True\n",
        "\n",
        "# Frequency to compute total RMS\n",
        "eval_every = 5\n",
        "\n",
        "RMS_list, roll_opt, pitch_opt, yaw_opt, T_opt = run_icp_pytorch(path_input, theta_orig, noise_level, epochs,\n",
        "                    batch_size, resample, matching_technique,\n",
        "                    plot)\n",
        "\n",
        "plt.plot(RMS_list)"
      ],
      "execution_count": null,
      "outputs": []
    },
    {
      "cell_type": "markdown",
      "metadata": {
        "id": "gLsfPvqTa6jr"
      },
      "source": [
        "## Try it on the Bremen cloud"
      ]
    },
    {
      "cell_type": "code",
      "metadata": {
        "id": "s9Pb_Mmga9dl"
      },
      "source": [
        "'''\n",
        "Define all parameters here\n",
        "Then execute the next cell\n",
        "'''\n",
        "path_input = '/content/SGD_ICP_PY/data/pcd_bremen/my_bremen.pcd'\n",
        "\n",
        "# Define the transform (x,y,z,roll,pitch,yaw)\n",
        "theta_orig = np.array([-1.0,-5.0,0.0, np.pi/2, np.pi/6, np.pi/3])\n",
        "\n",
        "# Noise to add to the groud truth parameters for the initial guess\n",
        "noise_level = 1\n",
        "\n",
        "epochs = 20\n",
        "batch_size = 5000\n",
        "\n",
        "# Consume the whole cloud before reshuffling, or resample at every batch step\n",
        "resample = False\n",
        "\n",
        "# Matching technique\n",
        "# Options are\n",
        "#   'identity': when matching is known\n",
        "#   'kdtree': Use sklearn KDTree built on the ref cloud\n",
        "#   'torch': Use matrix torch multiplication to compute distances\n",
        "matching_technique = 'identity' \n",
        "\n",
        "# Plot clouds at the end to see where the aligned cloud is w.r.t source and ref\n",
        "plot = False\n",
        "\n",
        "# Frequency to compute total RMS\n",
        "eval_every = 5\n",
        "\n",
        "RMS_list, roll_opt, pitch_opt, yaw_opt, T_opt = run_icp_pytorch(path_input, theta_orig, noise_level, epochs,\n",
        "                    batch_size, resample, matching_technique,\n",
        "                    plot)\n",
        "\n",
        "plt.plot(RMS_list)"
      ],
      "execution_count": null,
      "outputs": []
    },
    {
      "cell_type": "markdown",
      "metadata": {
        "id": "SJl46n3ruWnb"
      },
      "source": [
        "## Try it on the Notre Dame des Champs"
      ]
    },
    {
      "cell_type": "code",
      "metadata": {
        "id": "Vpu79fHuuWvk"
      },
      "source": [
        "'''\n",
        "Define all parameters here\n",
        "Then execute the next cell\n",
        "'''\n",
        "path_input_source = '/content/SGD_ICP_PY/data/Notre_Dame_Des_Champs_1.ply'\n",
        "path_input_ref = '/content/SGD_ICP_PY/data/Notre_Dame_Des_Champs_2.ply'\n",
        "\n",
        "# Define the initial guess\n",
        "theta_init = np.array([-0.0,-0.0,0.0, 0.0, 0.0, 0.0])\n",
        "\n",
        "epochs = 20\n",
        "batch_size = 5000\n",
        "\n",
        "# Consume the whole cloud before reshuffling, or resample at every batch step\n",
        "resample = False\n",
        "\n",
        "# Matching technique\n",
        "# Options are\n",
        "#   'identity': when matching is known\n",
        "#   'kdtree': Use sklearn KDTree built on the ref cloud\n",
        "#   'torch': Use matrix torch multiplication to compute distances\n",
        "matching_technique = 'kdtree' \n",
        "\n",
        "# Plot clouds at the end to see where the aligned cloud is w.r.t source and ref\n",
        "plot = False\n",
        "\n",
        "# Frequency to compute total RMS\n",
        "eval_every = 5\n",
        "\n",
        "RMS_list, roll_opt, pitch_opt, yaw_opt, T_opt = run_icp_pytorch_two_clouds(path_input_source,\n",
        "                    path_input_ref, theta_init, epochs,\n",
        "                    batch_size, resample, matching_technique,\n",
        "                    plot)\n",
        "\n",
        "plt.plot(RMS_list)"
      ],
      "execution_count": null,
      "outputs": []
    }
  ]
}