{
  "nbformat": 4,
  "nbformat_minor": 0,
  "metadata": {
    "colab": {
      "name": "main.ipynb",
      "provenance": [],
      "collapsed_sections": [],
      "authorship_tag": "ABX9TyPLl/Gq0d7ubqTJF9KxErz+",
      "include_colab_link": true
    },
    "kernelspec": {
      "name": "python3",
      "display_name": "Python 3"
    },
    "language_info": {
      "name": "python"
    }
  },
  "cells": [
    {
      "cell_type": "markdown",
      "metadata": {
        "id": "view-in-github",
        "colab_type": "text"
      },
      "source": [
        "<a href=\"https://colab.research.google.com/github/lucasgneccoh/SGD_ICP/blob/main/main.ipynb\" target=\"_parent\"><img src=\"https://colab.research.google.com/assets/colab-badge.svg\" alt=\"Open In Colab\"/></a>"
      ]
    },
    {
      "cell_type": "markdown",
      "metadata": {
        "id": "htovwa9SD5XU"
      },
      "source": [
        "# Authors implementation"
      ]
    },
    {
      "cell_type": "code",
      "metadata": {
        "id": "zTSbikgEGbfl"
      },
      "source": [
        "%%capture\n",
        "%cd /content\n",
        "!git clone https://bitbucket.org/fafz/sgd_icp.git\n",
        "!sudo apt install libeigen3-dev\n",
        "!sudo apt install libpcl-dev\n",
        "%cd /content/sgd_icp\n",
        "!mkdir build\n",
        "%cd build\n",
        "!cmake -DCMAKE_BUILD_TYPE=Release /content/sgd_icp\n",
        "!make"
      ],
      "execution_count": null,
      "outputs": []
    },
    {
      "cell_type": "code",
      "metadata": {
        "id": "iorzWhu1N6j0"
      },
      "source": [
        "# Test here. Uses PCD format for the clouds. Config file example is given in repository: JSON file with parameters\n",
        "# align_pcd <source_cloud> <target_cloud> <cofig_file>\n"
      ],
      "execution_count": null,
      "outputs": []
    },
    {
      "cell_type": "markdown",
      "metadata": {
        "id": "Fj5kQRuPHiH1"
      },
      "source": [
        "# Python implementation using code from the course"
      ]
    },
    {
      "cell_type": "code",
      "metadata": {
        "id": "-Fhvwgg1HmDq",
        "colab": {
          "base_uri": "https://localhost:8080/"
        },
        "outputId": "7106c229-c3ff-4a21-fef2-c70d24a543bd"
      },
      "source": [
        "!git clone https://github.com/lucasgneccoh/SGD_ICP.git"
      ],
      "execution_count": 14,
      "outputs": [
        {
          "output_type": "stream",
          "text": [
            "Cloning into 'SGD_ICP'...\n",
            "remote: Enumerating objects: 18, done.\u001b[K\n",
            "remote: Counting objects: 100% (18/18), done.\u001b[K\n",
            "remote: Compressing objects: 100% (17/17), done.\u001b[K\n",
            "remote: Total 18 (delta 2), reused 6 (delta 0), pack-reused 0\u001b[K\n",
            "Unpacking objects: 100% (18/18), done.\n"
          ],
          "name": "stdout"
        }
      ]
    },
    {
      "cell_type": "code",
      "metadata": {
        "id": "DGN9pzt8NslB"
      },
      "source": [
        ""
      ],
      "execution_count": null,
      "outputs": []
    }
  ]
}