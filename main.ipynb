{
  "nbformat": 4,
  "nbformat_minor": 0,
  "metadata": {
    "colab": {
      "name": "main.ipynb",
      "provenance": [],
      "toc_visible": true,
      "authorship_tag": "ABX9TyNPFvAIs+WVBS0jtoJGwZBi",
      "include_colab_link": true
    },
    "kernelspec": {
      "name": "python3",
      "display_name": "Python 3"
    },
    "language_info": {
      "name": "python"
    }
  },
  "cells": [
    {
      "cell_type": "markdown",
      "metadata": {
        "id": "view-in-github",
        "colab_type": "text"
      },
      "source": [
        "<a href=\"https://colab.research.google.com/github/lucasgneccoh/SGD_ICP/blob/main/main.ipynb\" target=\"_parent\"><img src=\"https://colab.research.google.com/assets/colab-badge.svg\" alt=\"Open In Colab\"/></a>"
      ]
    },
    {
      "cell_type": "markdown",
      "metadata": {
        "id": "htovwa9SD5XU"
      },
      "source": [
        "# Authors implementation"
      ]
    },
    {
      "cell_type": "code",
      "metadata": {
        "id": "dOMf8036PCMd",
        "colab": {
          "base_uri": "https://localhost:8080/"
        },
        "outputId": "2ca9805a-91fe-469d-98aa-6caaaa60dff3"
      },
      "source": [
        "!git clone https://bitbucket.org/fafz/sgd_icp.git"
      ],
      "execution_count": null,
      "outputs": [
        {
          "output_type": "stream",
          "text": [
            "Cloning into 'sgd_icp'...\n",
            "remote: Counting objects: 139, done.\u001b[K\n",
            "remote: Compressing objects: 100% (136/136), done.\u001b[K\n",
            "remote: Total 139 (delta 95), reused 0 (delta 0)\u001b[K\n",
            "Receiving objects: 100% (139/139), 160.43 KiB | 2.43 MiB/s, done.\n",
            "Resolving deltas: 100% (95/95), done.\n"
          ],
          "name": "stdout"
        }
      ]
    },
    {
      "cell_type": "code",
      "metadata": {
        "id": "zTSbikgEGbfl"
      },
      "source": [
        "%%capture\n",
        "!sudo apt install libeigen3-dev"
      ],
      "execution_count": null,
      "outputs": []
    },
    {
      "cell_type": "code",
      "metadata": {
        "id": "BPkC3pJKGqjO"
      },
      "source": [
        "%%capture\n",
        "!sudo apt install libpcl-dev"
      ],
      "execution_count": null,
      "outputs": []
    },
    {
      "cell_type": "code",
      "metadata": {
        "colab": {
          "base_uri": "https://localhost:8080/"
        },
        "id": "4JFyPUAXFKZA",
        "outputId": "3089bafb-bf2d-4b14-cf09-5421ac3de4c6"
      },
      "source": [
        "%cd /content/sgd_icp\n",
        "!mkdir build\n",
        "%cd build\n",
        "!cmake -DCMAKE_BUILD_TYPE=Release /content/sgd_icp\n",
        "!make"
      ],
      "execution_count": null,
      "outputs": [
        {
          "output_type": "stream",
          "text": [
            "/content/sgd_icp\n",
            "mkdir: cannot create directory ‘build’: File exists\n",
            "/content/sgd_icp/build\n",
            "-- Boost version: 1.65.1\n",
            "-- Found the following Boost libraries:\n",
            "--   program_options\n",
            "--   system\n",
            "-- Checking for module 'eigen3'\n",
            "--   Found eigen3, version 3.3.4\n",
            "-- Found eigen: /usr/include/eigen3  \n",
            "-- Looking for pthread.h\n",
            "-- Looking for pthread.h - found\n",
            "-- Looking for pthread_create\n",
            "-- Looking for pthread_create - not found\n",
            "-- Looking for pthread_create in pthreads\n",
            "-- Looking for pthread_create in pthreads - not found\n",
            "-- Looking for pthread_create in pthread\n",
            "-- Looking for pthread_create in pthread - found\n",
            "-- Found Threads: TRUE  \n",
            "-- Boost version: 1.65.1\n",
            "-- Found the following Boost libraries:\n",
            "--   system\n",
            "--   filesystem\n",
            "--   thread\n",
            "--   date_time\n",
            "--   iostreams\n",
            "--   serialization\n",
            "--   chrono\n",
            "--   atomic\n",
            "--   regex\n",
            "-- Checking for module 'flann'\n",
            "--   Found flann, version 1.9.1\n",
            "-- Found Flann: /usr/lib/x86_64-linux-gnu/libflann_cpp_s.a  \n",
            "-- Checking for module 'libopenni'\n",
            "--   Found libopenni, version 1.5.4.0\n",
            "-- Found openni: /usr/lib/libOpenNI.so  \n",
            "-- Checking for module 'libopenni2'\n",
            "--   Found libopenni2, version 2.2.0.3\n",
            "-- Found OpenNI2: /usr/lib/libOpenNI2.so  \n",
            "-- Could NOT find ensenso (missing: ENSENSO_LIBRARY ENSENSO_INCLUDE_DIR) \n",
            "** WARNING ** io features related to ensenso will be disabled\n",
            "-- Could NOT find DAVIDSDK (missing: DAVIDSDK_LIBRARY DAVIDSDK_INCLUDE_DIR) \n",
            "** WARNING ** io features related to davidSDK will be disabled\n",
            "-- Could NOT find DSSDK (missing: _DSSDK_LIBRARIES) \n",
            "** WARNING ** io features related to dssdk will be disabled\n",
            "** WARNING ** io features related to pcap will be disabled\n",
            "** WARNING ** io features related to png will be disabled\n",
            "-- The imported target \"vtkRenderingPythonTkWidgets\" references the file\n",
            "   \"/usr/lib/x86_64-linux-gnu/libvtkRenderingPythonTkWidgets.so\"\n",
            "but this file does not exist.  Possible reasons include:\n",
            "* The file was deleted, renamed, or moved to another location.\n",
            "* An install or uninstall procedure did not complete successfully.\n",
            "* The installation package was faulty and contained\n",
            "   \"/usr/lib/cmake/vtk-6.3/VTKTargets.cmake\"\n",
            "but not all the files it references.\n",
            "\n",
            "-- The imported target \"vtk\" references the file\n",
            "   \"/usr/bin/vtk\"\n",
            "but this file does not exist.  Possible reasons include:\n",
            "* The file was deleted, renamed, or moved to another location.\n",
            "* An install or uninstall procedure did not complete successfully.\n",
            "* The installation package was faulty and contained\n",
            "   \"/usr/lib/cmake/vtk-6.3/VTKTargets.cmake\"\n",
            "but not all the files it references.\n",
            "\n",
            "-- LIBUSB_1_LIBRARY (missing: LIBUSB_1_INCLUDE_DIR) \n",
            "** WARNING ** io features related to libusb-1.0 will be disabled\n",
            "-- looking for PCL_COMMON\n",
            "-- Found PCL_COMMON: /usr/lib/x86_64-linux-gnu/libpcl_common.so  \n",
            "-- looking for PCL_KDTREE\n",
            "-- Found PCL_KDTREE: /usr/lib/x86_64-linux-gnu/libpcl_kdtree.so  \n",
            "-- looking for PCL_OCTREE\n",
            "-- Found PCL_OCTREE: /usr/lib/x86_64-linux-gnu/libpcl_octree.so  \n",
            "-- looking for PCL_SEARCH\n",
            "-- Found PCL_SEARCH: /usr/lib/x86_64-linux-gnu/libpcl_search.so  \n",
            "-- looking for PCL_SAMPLE_CONSENSUS\n",
            "-- Found PCL_SAMPLE_CONSENSUS: /usr/lib/x86_64-linux-gnu/libpcl_sample_consensus.so  \n",
            "-- looking for PCL_FILTERS\n",
            "-- Found PCL_FILTERS: /usr/lib/x86_64-linux-gnu/libpcl_filters.so  \n",
            "-- looking for PCL_IO\n",
            "-- Found PCL_IO: /usr/lib/x86_64-linux-gnu/libpcl_io.so  \n",
            "-- Found PCL: /usr/lib/x86_64-linux-gnu/libboost_system.so;/usr/lib/x86_64-linux-gnu/libboost_filesystem.so;/usr/lib/x86_64-linux-gnu/libboost_thread.so;/usr/lib/x86_64-linux-gnu/libboost_date_time.so;/usr/lib/x86_64-linux-gnu/libboost_iostreams.so;/usr/lib/x86_64-linux-gnu/libboost_serialization.so;/usr/lib/x86_64-linux-gnu/libboost_chrono.so;/usr/lib/x86_64-linux-gnu/libboost_atomic.so;/usr/lib/x86_64-linux-gnu/libboost_regex.so;optimized;/usr/lib/x86_64-linux-gnu/libpcl_common.so;debug;/usr/lib/x86_64-linux-gnu/libpcl_common.so;optimized;/usr/lib/x86_64-linux-gnu/libflann_cpp_s.a;debug;/usr/lib/x86_64-linux-gnu/libflann_cpp_s.a;optimized;/usr/lib/x86_64-linux-gnu/libpcl_kdtree.so;debug;/usr/lib/x86_64-linux-gnu/libpcl_kdtree.so;optimized;/usr/lib/x86_64-linux-gnu/libpcl_octree.so;debug;/usr/lib/x86_64-linux-gnu/libpcl_octree.so;optimized;/usr/lib/x86_64-linux-gnu/libpcl_search.so;debug;/usr/lib/x86_64-linux-gnu/libpcl_search.so;optimized;/usr/lib/x86_64-linux-gnu/libpcl_sample_consensus.so;debug;/usr/lib/x86_64-linux-gnu/libpcl_sample_consensus.so;optimized;/usr/lib/x86_64-linux-gnu/libpcl_filters.so;debug;/usr/lib/x86_64-linux-gnu/libpcl_filters.so;/usr/lib/libOpenNI.so;/usr/lib/libOpenNI2.so;vtkChartsCore;vtkCommonColor;vtkCommonDataModel;vtkCommonMath;vtkCommonCore;vtksys;vtkCommonMisc;vtkCommonSystem;vtkCommonTransforms;vtkInfovisCore;vtkFiltersExtraction;vtkCommonExecutionModel;vtkFiltersCore;vtkFiltersGeneral;vtkCommonComputationalGeometry;vtkFiltersStatistics;vtkImagingFourier;vtkImagingCore;vtkalglib;vtkRenderingContext2D;vtkRenderingCore;vtkFiltersGeometry;vtkFiltersSources;vtkRenderingFreeType;/usr/lib/x86_64-linux-gnu/libfreetype.so;/usr/lib/x86_64-linux-gnu/libz.so;vtkftgl;vtkDICOMParser;vtkDomainsChemistry;vtkIOXML;vtkIOGeometry;vtkIOCore;vtkIOXMLParser;/usr/lib/x86_64-linux-gnu/libexpat.so;vtkFiltersAMR;vtkParallelCore;vtkIOLegacy;vtkFiltersFlowPaths;vtkFiltersGeneric;vtkFiltersHybrid;vtkImagingSources;vtkFiltersHyperTree;vtkFiltersImaging;vtkImagingGeneral;vtkFiltersModeling;vtkFiltersParallel;vtkFiltersParallelFlowPaths;vtkParallelMPI;vtkFiltersParallelGeometry;vtkFiltersParallelImaging;vtkFiltersParallelMPI;vtkFiltersParallelStatistics;vtkFiltersProgrammable;vtkFiltersPython;/usr/lib/x86_64-linux-gnu/libpython2.7.so;vtkWrappingPythonCore;vtkWrappingTools;vtkFiltersReebGraph;vtkFiltersSMP;vtkFiltersSelection;vtkFiltersTexture;vtkFiltersVerdict;verdict;vtkGUISupportQt;vtkInteractionStyle;vtkRenderingOpenGL;vtkImagingHybrid;vtkIOImage;vtkmetaio;/usr/lib/x86_64-linux-gnu/libjpeg.so;/usr/lib/x86_64-linux-gnu/libpng.so;/usr/lib/x86_64-linux-gnu/libtiff.so;vtkGUISupportQtOpenGL;vtkGUISupportQtSQL;vtkIOSQL;sqlite3;vtkGUISupportQtWebkit;vtkViewsQt;vtkViewsInfovis;vtkInfovisLayout;vtkInfovisBoostGraphAlgorithms;vtkRenderingLabel;vtkViewsCore;vtkInteractionWidgets;vtkRenderingAnnotation;vtkImagingColor;vtkRenderingVolume;vtkGeovisCore;/usr/lib/x86_64-linux-gnu/libproj.so;vtkIOAMR;/usr/lib/x86_64-linux-gnu/hdf5/openmpi/libhdf5.so;/usr/lib/x86_64-linux-gnu/libsz.so;/usr/lib/x86_64-linux-gnu/libdl.so;/usr/lib/x86_64-linux-gnu/libm.so;/usr/lib/x86_64-linux-gnu/openmpi/lib/libmpi.so;vtkIOEnSight;vtkIOExodus;vtkexoIIc;/usr/lib/x86_64-linux-gnu/libnetcdf_c++.so;/usr/lib/x86_64-linux-gnu/libnetcdf.so;vtkIOExport;vtkRenderingGL2PS;vtkRenderingContextOpenGL;/usr/lib/x86_64-linux-gnu/libgl2ps.so;vtkIOFFMPEG;vtkIOMovie;/usr/lib/x86_64-linux-gnu/libtheoraenc.so;/usr/lib/x86_64-linux-gnu/libtheoradec.so;/usr/lib/x86_64-linux-gnu/libogg.so;vtkIOGDAL;vtkIOGeoJSON;vtkIOImport;vtkIOInfovis;/usr/lib/x86_64-linux-gnu/libxml2.so;vtkIOLSDyna;vtkIOMINC;vtkIOMPIImage;vtkIOMPIParallel;vtkIOParallel;vtkIONetCDF;/usr/lib/x86_64-linux-gnu/libjsoncpp.so;vtkIOMySQL;vtkIOODBC;vtkIOPLY;vtkIOParallelExodus;vtkIOParallelLSDyna;vtkIOParallelNetCDF;vtkIOParallelXML;vtkIOPostgreSQL;vtkIOVPIC;VPIC;vtkIOVideo;vtkIOXdmf2;vtkxdmf2;vtkImagingMath;vtkImagingMorphological;vtkImagingStatistics;vtkImagingStencil;vtkInteractionImage;vtkLocalExample;vtkParallelMPI4Py;vtkPythonInterpreter;vtkRenderingExternal;vtkRenderingFreeTypeFontConfig;vtkRenderingImage;vtkRenderingLIC;vtkRenderingLOD;vtkRenderingMatplotlib;vtkRenderingParallel;vtkRenderingParallelLIC;vtkRenderingQt;vtkRenderingVolumeAMR;vtkRenderingVolumeOpenGL;vtkTestingGenericBridge;vtkTestingIOSQL;vtkTestingRendering;vtkViewsContext2D;vtkViewsGeovis;vtkWrappingJava;optimized;/usr/lib/x86_64-linux-gnu/libpcl_io.so;debug;/usr/lib/x86_64-linux-gnu/libpcl_io.so;/usr/lib/x86_64-linux-gnu/libboost_system.so;/usr/lib/x86_64-linux-gnu/libboost_filesystem.so;/usr/lib/x86_64-linux-gnu/libboost_thread.so;/usr/lib/x86_64-linux-gnu/libboost_date_time.so;/usr/lib/x86_64-linux-gnu/libboost_iostreams.so;/usr/lib/x86_64-linux-gnu/libboost_serialization.so;/usr/lib/x86_64-linux-gnu/libboost_chrono.so;/usr/lib/x86_64-linux-gnu/libboost_atomic.so;/usr/lib/x86_64-linux-gnu/libboost_regex.so;/usr/lib/libOpenNI.so;/usr/lib/libOpenNI2.so;optimized;/usr/lib/x86_64-linux-gnu/libflann_cpp_s.a;debug;/usr/lib/x86_64-linux-gnu/libflann_cpp_s.a;vtkChartsCore;vtkCommonColor;vtkCommonDataModel;vtkCommonMath;vtkCommonCore;vtksys;vtkCommonMisc;vtkCommonSystem;vtkCommonTransforms;vtkInfovisCore;vtkFiltersExtraction;vtkCommonExecutionModel;vtkFiltersCore;vtkFiltersGeneral;vtkCommonComputationalGeometry;vtkFiltersStatistics;vtkImagingFourier;vtkImagingCore;vtkalglib;vtkRenderingContext2D;vtkRenderingCore;vtkFiltersGeometry;vtkFiltersSources;vtkRenderingFreeType;/usr/lib/x86_64-linux-gnu/libfreetype.so;/usr/lib/x86_64-linux-gnu/libz.so;vtkftgl;vtkDICOMParser;vtkDomainsChemistry;vtkIOXML;vtkIOGeometry;vtkIOCore;vtkIOXMLParser;/usr/lib/x86_64-linux-gnu/libexpat.so;vtkFiltersAMR;vtkParallelCore;vtkIOLegacy;vtkFiltersFlowPaths;vtkFiltersGeneric;vtkFiltersHybrid;vtkImagingSources;vtkFiltersHyperTree;vtkFiltersImaging;vtkImagingGeneral;vtkFiltersModeling;vtkFiltersParallel;vtkFiltersParallelFlowPaths;vtkParallelMPI;vtkFiltersParallelGeometry;vtkFiltersParallelImaging;vtkFiltersParallelMPI;vtkFiltersParallelStatistics;vtkFiltersProgrammable;vtkFiltersPython;/usr/lib/x86_64-linux-gnu/libpython2.7.so;vtkWrappingPythonCore;vtkWrappingTools;vtkFiltersReebGraph;vtkFiltersSMP;vtkFiltersSelection;vtkFiltersTexture;vtkFiltersVerdict;verdict;vtkGUISupportQt;vtkInteractionStyle;vtkRenderingOpenGL;vtkImagingHybrid;vtkIOImage;vtkmetaio;/usr/lib/x86_64-linux-gnu/libjpeg.so;/usr/lib/x86_64-linux-gnu/libpng.so;/usr/lib/x86_64-linux-gnu/libtiff.so;vtkGUISupportQtOpenGL;vtkGUISupportQtSQL;vtkIOSQL;sqlite3;vtkGUISupportQtWebkit;vtkViewsQt;vtkViewsInfovis;vtkInfovisLayout;vtkInfovisBoostGraphAlgorithms;vtkRenderingLabel;vtkViewsCore;vtkInteractionWidgets;vtkRenderingAnnotation;vtkImagingColor;vtkRenderingVolume;vtkGeovisCore;/usr/lib/x86_64-linux-gnu/libproj.so;vtkIOAMR;/usr/lib/x86_64-linux-gnu/hdf5/openmpi/libhdf5.so;/usr/lib/x86_64-linux-gnu/libsz.so;/usr/lib/x86_64-linux-gnu/libdl.so;/usr/lib/x86_64-linux-gnu/libm.so;/usr/lib/x86_64-linux-gnu/openmpi/lib/libmpi.so;vtkIOEnSight;vtkIOExodus;vtkexoIIc;/usr/lib/x86_64-linux-gnu/libnetcdf_c++.so;/usr/lib/x86_64-linux-gnu/libnetcdf.so;vtkIOExport;vtkRenderingGL2PS;vtkRenderingContextOpenGL;/usr/lib/x86_64-linux-gnu/libgl2ps.so;vtkIOFFMPEG;vtkIOMovie;/usr/lib/x86_64-linux-gnu/libtheoraenc.so;/usr/lib/x86_64-linux-gnu/libtheoradec.so;/usr/lib/x86_64-linux-gnu/libogg.so;vtkIOGDAL;vtkIOGeoJSON;vtkIOImport;vtkIOInfovis;/usr/lib/x86_64-linux-gnu/libxml2.so;vtkIOLSDyna;vtkIOMINC;vtkIOMPIImage;vtkIOMPIParallel;vtkIOParallel;vtkIONetCDF;/usr/lib/x86_64-linux-gnu/libjsoncpp.so;vtkIOMySQL;vtkIOODBC;vtkIOPLY;vtkIOParallelExodus;vtkIOParallelLSDyna;vtkIOParallelNetCDF;vtkIOParallelXML;vtkIOPostgreSQL;vtkIOVPIC;VPIC;vtkIOVideo;vtkIOXdmf2;vtkxdmf2;vtkImagingMath;vtkImagingMorphological;vtkImagingStatistics;vtkImagingStencil;vtkInteractionImage;vtkLocalExample;vtkParallelMPI4Py;vtkPythonInterpreter;vtkRenderingExternal;vtkRenderingFreeTypeFontConfig;vtkRenderingImage;vtkRenderingLIC;vtkRenderingLOD;vtkRenderingMatplotlib;vtkRenderingParallel;vtkRenderingParallelLIC;vtkRenderingQt;vtkRenderingVolumeAMR;vtkRenderingVolumeOpenGL;vtkTestingGenericBridge;vtkTestingIOSQL;vtkTestingRendering;vtkViewsContext2D;vtkViewsGeovis;vtkWrappingJava  \n",
            "-- Configuring done\n",
            "-- Generating done\n",
            "-- Build files have been written to: /content/sgd_icp/build\n",
            "\u001b[35m\u001b[1mScanning dependencies of target sgdicp\u001b[0m\n",
            "[  5%] \u001b[32mBuilding CXX object src/CMakeFiles/sgdicp.dir/abstract_sgd_optimizer.cpp.o\u001b[0m\n",
            "[ 11%] \u001b[32mBuilding CXX object src/CMakeFiles/sgdicp.dir/adadelta.cpp.o\u001b[0m\n",
            "[ 16%] \u001b[32mBuilding CXX object src/CMakeFiles/sgdicp.dir/adam.cpp.o\u001b[0m\n",
            "[ 22%] \u001b[32mBuilding CXX object src/CMakeFiles/sgdicp.dir/fixed_sgd.cpp.o\u001b[0m\n",
            "[ 27%] \u001b[32mBuilding CXX object src/CMakeFiles/sgdicp.dir/rmsprop.cpp.o\u001b[0m\n",
            "[ 33%] \u001b[32mBuilding CXX object src/CMakeFiles/sgdicp.dir/momentum.cpp.o\u001b[0m\n",
            "[ 38%] \u001b[32mBuilding CXX object src/CMakeFiles/sgdicp.dir/point_cloud_batch.cpp.o\u001b[0m\n",
            "[ 44%] \u001b[32mBuilding CXX object src/CMakeFiles/sgdicp.dir/sgdicp.cpp.o\u001b[0m\n",
            "[ 50%] \u001b[32mBuilding CXX object src/CMakeFiles/sgdicp.dir/utils.cpp.o\u001b[0m\n",
            "[ 55%] \u001b[32m\u001b[1mLinking CXX shared library ../../lib/libsgdicp.so\u001b[0m\n",
            "[ 55%] Built target sgdicp\n",
            "\u001b[35m\u001b[1mScanning dependencies of target test_optimizers\u001b[0m\n",
            "[ 61%] \u001b[32mBuilding CXX object src/CMakeFiles/test_optimizers.dir/test_optimizers.cpp.o\u001b[0m\n",
            "[ 66%] \u001b[32m\u001b[1mLinking CXX executable ../../bin/test_optimizers\u001b[0m\n",
            "[ 66%] Built target test_optimizers\n",
            "\u001b[35m\u001b[1mScanning dependencies of target transform_cloud\u001b[0m\n",
            "[ 72%] \u001b[32mBuilding CXX object src/CMakeFiles/transform_cloud.dir/transform_cloud.cpp.o\u001b[0m\n",
            "[ 77%] \u001b[32m\u001b[1mLinking CXX executable ../../bin/transform_cloud\u001b[0m\n",
            "[ 77%] Built target transform_cloud\n",
            "\u001b[35m\u001b[1mScanning dependencies of target pcl_align_pcd\u001b[0m\n",
            "[ 83%] \u001b[32mBuilding CXX object src/CMakeFiles/pcl_align_pcd.dir/pcl_align_pcd.cpp.o\u001b[0m\n",
            "In file included from \u001b[01m\u001b[K/usr/include/pcl-1.8/pcl/sample_consensus/sac_model.h:52:0\u001b[m\u001b[K,\n",
            "                 from \u001b[01m\u001b[K/usr/include/pcl-1.8/pcl/sample_consensus/sac.h:45\u001b[m\u001b[K,\n",
            "                 from \u001b[01m\u001b[K/usr/include/pcl-1.8/pcl/sample_consensus/ransac.h:44\u001b[m\u001b[K,\n",
            "                 from \u001b[01m\u001b[K/usr/include/pcl-1.8/pcl/registration/icp.h:45\u001b[m\u001b[K,\n",
            "                 from \u001b[01m\u001b[K/content/sgd_icp/src/pcl_align_pcd.cpp:9\u001b[m\u001b[K:\n",
            "\u001b[01m\u001b[K/usr/include/pcl-1.8/pcl/sample_consensus/model_types.h:\u001b[m\u001b[K In function ‘\u001b[01m\u001b[Kvoid __static_initialization_and_destruction_0(int, int)\u001b[m\u001b[K’:\n",
            "\u001b[01m\u001b[K/usr/include/pcl-1.8/pcl/sample_consensus/model_types.h:99:3:\u001b[m\u001b[K \u001b[01;35m\u001b[Kwarning: \u001b[m\u001b[K‘\u001b[01m\u001b[Kpcl::SAC_SAMPLE_SIZE\u001b[m\u001b[K’ is deprecated: This map is deprecated and is kept only to prevent breaking existing user code. Starting from PCL 1.8.0 model sample size is a protected member of the SampleConsensusModel class [\u001b[01;35m\u001b[K-Wdeprecated-declarations\u001b[m\u001b[K]\n",
            "   \u001b[01;35m\u001b[KSAC_SAMPLE_SIZE\u001b[m\u001b[K (sample_size_pairs, sample_size_pairs + sizeof (sample_size_pairs) / sizeof (SampleSizeModel));\n",
            "   \u001b[01;35m\u001b[K^~~~~~~~~~~~~~~\u001b[m\u001b[K\n",
            "\u001b[01m\u001b[K/usr/include/pcl-1.8/pcl/sample_consensus/model_types.h:99:3:\u001b[m\u001b[K \u001b[01;36m\u001b[Knote: \u001b[m\u001b[Kdeclared here\n",
            "[ 88%] \u001b[32m\u001b[1mLinking CXX executable ../../bin/pcl_align_pcd\u001b[0m\n",
            "[ 88%] Built target pcl_align_pcd\n",
            "\u001b[35m\u001b[1mScanning dependencies of target align_pcd\u001b[0m\n",
            "[ 94%] \u001b[32mBuilding CXX object src/CMakeFiles/align_pcd.dir/align_pcd.cpp.o\u001b[0m\n",
            "[100%] \u001b[32m\u001b[1mLinking CXX executable ../../bin/align_pcd\u001b[0m\n",
            "[100%] Built target align_pcd\n"
          ],
          "name": "stdout"
        }
      ]
    },
    {
      "cell_type": "code",
      "metadata": {
        "id": "kYOW33LsHg8l"
      },
      "source": [
        ""
      ],
      "execution_count": null,
      "outputs": []
    },
    {
      "cell_type": "markdown",
      "metadata": {
        "id": "Fj5kQRuPHiH1"
      },
      "source": [
        "# Python implementation using code from the course"
      ]
    },
    {
      "cell_type": "code",
      "metadata": {
        "id": "-Fhvwgg1HmDq"
      },
      "source": [
        ""
      ],
      "execution_count": null,
      "outputs": []
    }
  ]
}