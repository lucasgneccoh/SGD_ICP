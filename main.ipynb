{
  "nbformat": 4,
  "nbformat_minor": 0,
  "metadata": {
    "colab": {
      "name": "main.ipynb",
      "provenance": [],
      "collapsed_sections": [
        "htovwa9SD5XU"
      ],
      "authorship_tag": "ABX9TyOe94Ep1mAqiCWCVcIaCMBi",
      "include_colab_link": true
    },
    "kernelspec": {
      "name": "python3",
      "display_name": "Python 3"
    },
    "language_info": {
      "name": "python"
    }
  },
  "cells": [
    {
      "cell_type": "markdown",
      "metadata": {
        "id": "view-in-github",
        "colab_type": "text"
      },
      "source": [
        "<a href=\"https://colab.research.google.com/github/lucasgneccoh/SGD_ICP_PY/blob/main/main.ipynb\" target=\"_parent\"><img src=\"https://colab.research.google.com/assets/colab-badge.svg\" alt=\"Open In Colab\"/></a>"
      ]
    },
    {
      "cell_type": "markdown",
      "metadata": {
        "id": "htovwa9SD5XU"
      },
      "source": [
        "# Install authors implementation"
      ]
    },
    {
      "cell_type": "code",
      "metadata": {
        "id": "zTSbikgEGbfl"
      },
      "source": [
        "%%capture\n",
        "%cd /content\n",
        "!git clone https://bitbucket.org/fafz/sgd_icp.git\n",
        "!sudo apt install libeigen3-dev\n",
        "!sudo apt install libpcl-dev\n",
        "%cd /content/sgd_icp\n",
        "!mkdir build\n",
        "%cd build\n",
        "!cmake -DCMAKE_BUILD_TYPE=Release /content/sgd_icp\n",
        "!make"
      ],
      "execution_count": null,
      "outputs": []
    },
    {
      "cell_type": "markdown",
      "metadata": {
        "id": "pJsUnC_JCy5M"
      },
      "source": [
        "# Project - SGD ICP in python"
      ]
    },
    {
      "cell_type": "code",
      "metadata": {
        "id": "dW7ep3CSuFxb"
      },
      "source": [
        "%%capture\n",
        "%cd /content\n",
        "!git clone https://github.com/lucasgneccoh/SGD_ICP_PY.git\n",
        "!pip install lzf\n",
        "'''\n",
        "Setup pypcd\n",
        "'''\n",
        "%cd /content/SGD_ICP_PY/pypcd/\n",
        "!python setup.py build\n",
        "!python setup.py install"
      ],
      "execution_count": 2,
      "outputs": []
    },
    {
      "cell_type": "code",
      "metadata": {
        "id": "DGN9pzt8NslB"
      },
      "source": [
        "import os\n",
        "import numpy as np\n",
        "from pypcd import pypcd as pcd\n",
        "from google.colab import files\n",
        "import json\n",
        "import matplotlib.pyplot as plt\n",
        "\n",
        "\n",
        "def quaternion_rotation_matrix(Q):\n",
        "    \"\"\"\n",
        "    Covert a quaternion into a full three-dimensional rotation matrix.\n",
        " \n",
        "    Input\n",
        "    :param Q: A 4 element array representing the quaternion (q0,q1,q2,q3) \n",
        " \n",
        "    Output\n",
        "    :return: A 3x3 element matrix representing the full 3D rotation matrix. \n",
        "             This rotation matrix converts a point in the local reference \n",
        "             frame to a point in the global reference frame.\n",
        "    \"\"\"\n",
        "    # Extract the values from Q\n",
        "    q0 = Q[0]\n",
        "    q1 = Q[1]\n",
        "    q2 = Q[2]\n",
        "    q3 = Q[3]\n",
        "     \n",
        "    # First row of the rotation matrix\n",
        "    r00 = 2 * (q0 * q0 + q1 * q1) - 1\n",
        "    r01 = 2 * (q1 * q2 - q0 * q3)\n",
        "    r02 = 2 * (q1 * q3 + q0 * q2)\n",
        "     \n",
        "    # Second row of the rotation matrix\n",
        "    r10 = 2 * (q1 * q2 + q0 * q3)\n",
        "    r11 = 2 * (q0 * q0 + q2 * q2) - 1\n",
        "    r12 = 2 * (q2 * q3 - q0 * q1)\n",
        "     \n",
        "    # Third row of the rotation matrix\n",
        "    r20 = 2 * (q1 * q3 - q0 * q2)\n",
        "    r21 = 2 * (q2 * q3 + q0 * q1)\n",
        "    r22 = 2 * (q0 * q0 + q3 * q3) - 1\n",
        "     \n",
        "    # 3x3 rotation matrix\n",
        "    rot_matrix = np.array([[r00, r01, r02],\n",
        "                           [r10, r11, r12],\n",
        "                           [r20, r21, r22]])\n",
        "                            \n",
        "    return rot_matrix\n",
        "\n",
        "def pitch_roll_yaw(ax, ay, az):\n",
        "  cx, sx = np.cos(ax), np.sin(ax)\n",
        "  cy, sy = np.cos(ay), np.sin(ay)\n",
        "  cz, sz = np.cos(az), np.sin(az)\n",
        "  \n",
        "  R = np.array([[cz*cy, cz*sx*sy-sz*cx, cz*sx*sy+sz*sy],\n",
        "                [sz*cy, sz*sx*sy+cz*cx, sz*sx*sy-cz*sx],\n",
        "                [-sy, cy*sx, cy*cx]])\n",
        "  return R\n",
        "\n",
        "def roll_pitch_yaw(ax, ay, az):\n",
        "  cx, sx = np.cos(ax), np.sin(ax)\n",
        "  cy, sy = np.cos(ay), np.sin(ay)\n",
        "  cz, sz = np.cos(az), np.sin(az)\n",
        "  \n",
        "  R = np.array([[cy*cz, -cy*sz, sy],\n",
        "                [sx*sy*cz+cx*sz, -sx*sy*sz+cx*cz, -sx*cy],\n",
        "                [-cx*sy*cz + sx*sz, cx*sy*sz+sx*cz, cx*cy]])\n",
        "  return R\n",
        "\n",
        "def d_R(ax, ay, az):\n",
        "  cx, sx = np.cos(ax), np.sin(ax)\n",
        "  cy, sy = np.cos(ay), np.sin(ay)\n",
        "  cz, sz = np.cos(az), np.sin(az)\n",
        "  \n",
        "  d_roll = np.array([[0, 0, 0],\n",
        "                [cx*sy*cz-sx*sz, -cx*sy*sz-sx*cz, -cx*cy],\n",
        "                [sx*sy*cz + cx*sz, -sx*sy*sz+cx*cz,-sx*cy]])\n",
        "  d_pitch = np.array([[-sy*cz, sy*cz, cy],\n",
        "                [sx*cy*cz, -sx*cy*sz, sx*sy],\n",
        "                [-cx*cy*cz, cx*cy*sz, -cx*sy]])\n",
        "  d_yaw = np.array([[-cy*sz, -cy*cz, 0],\n",
        "                [-sx*sy*sz+cx*cz, -sx*sy*cz-cx*sz, 0],\n",
        "                [cx*sy*sz + sx*cz, cx*sy*cz-sx*sz, 0]])\n",
        "  return d_roll, d_pitch, d_yaw\n",
        "\n",
        "\n",
        "def add_noise(pc, mean, std):\n",
        "  return pc + np.random.normal(loc=mean, scale=std, size=pc.shape)\n",
        "\n",
        "def apply_transform(pc, R, t):\n",
        "  if isinstance(pc, pcd.PointCloud):\n",
        "    cloud = np.vstack([pc.pc_data['x'], pc.pc_data['y'], pc.pc_data['z']])\n",
        "    cloud = R.T @ cloud + t.reshape(-1,1)\n",
        "    for a, i in zip(['x', 'y', 'z'], range(3)):\n",
        "      pc.pc_data[a] = cloud[i,:]\n",
        "  else:\n",
        "    pc = R.T @ pc +  t.reshape(-1,1)    \n",
        "  return pc\n",
        "\n",
        "def apply_transform_from_theta(pc, theta):\n",
        "  R, T = theta_to_tranformation(theta)\n",
        "  return apply_transform(pc, R, T)\n",
        "\n",
        "\n",
        "def roll_pitch_yaw(ax, ay, az):\n",
        "  cx, sx = np.cos(ax), np.sin(ax)\n",
        "  cy, sy = np.cos(ay), np.sin(ay)\n",
        "  cz, sz = np.cos(az), np.sin(az)\n",
        "  \n",
        "  R = np.array([[cz*cy, cz*sx*sy-sz*cx, cz*sx*sy+sz*sy],\n",
        "                [sz*cy, sz*sx*sy+cz*cx, sz*sx*sy-cz*sx],\n",
        "                [-sy, cy*sx, cy*cx]])\n",
        "  return R\n",
        "\n",
        "def theta_to_tranformation(theta):\n",
        "  R, T = roll_pitch_yaw(*theta[3:]), theta[:3].copy().reshape(-1,1)\n",
        "  return R, T\n",
        "\n",
        "def gradient(source, ref, theta):\n",
        "  R, T = theta_to_tranformation(theta)\n",
        "  ins = (R @ source + T) - ref # 3 x M\n",
        "  # w.r.t T, it is already in ins\n",
        "  # w.r.t R  \n",
        "  # Fast way !Wrong\n",
        "  # super_dR = np.array([d_R(*theta[3:])]).reshape(3,3,3)\n",
        "  # D = (super_dR @ source)*ins\n",
        "  # D = D.sum(axis=0).mean(axis=-1)\n",
        "  # print(D)\n",
        "  # Slow but sure\n",
        "  dr, dp, dy = d_R(*theta[3:])\n",
        "  D = np.array([((a @ source)*ins).sum(0).mean() for a in [dr, dp, dy]])\n",
        "  # print(D)\n",
        "\n",
        "  return np.hstack([2*ins.mean(axis=1), 2*D]) \n",
        "\n",
        "def read_pcd(path):\n",
        "  pc = pcd.point_cloud_from_path(path)\n",
        "  return np.vstack([pc.pc_data['x'], pc.pc_data['y'], pc.pc_data['z']])\n",
        "\n",
        "def dropout(cloud, drop_prop):\n",
        "  ind = (np.random.uniform(size=cloud.shape[1])>drop_prop)\n",
        "  return cloud[:,ind]\n",
        "\n",
        "def normalize(cloud, eps=1e-4):\n",
        "  M, m = cloud.max(1), cloud.min(1)\n",
        "  dif = np.maximum(M-m,eps).reshape(-1,1)\n",
        "  return (cloud - m.reshape(-1,1))/dif\n",
        "\n",
        "def crop_cloud_sphere(cloud, radius):\n",
        "  ind = (np.linalg.norm(cloud, axis=0)<radius)\n",
        "  return cloud[:,ind]\n",
        "\n",
        "def save_whole_cloud(paths_in, path_out):\n",
        "  start = True\n",
        "  whole = None\n",
        "  for path_in in paths_in:\n",
        "    pc = pcd.point_cloud_from_path(path_in)\n",
        "    meta = pc.get_metadata()\n",
        "    trans = np.array(meta['viewpoint'][:3])\n",
        "    rot = quaternion_rotation_matrix(meta['viewpoint'][3:]).T\n",
        "    \n",
        "    cloud = np.vstack([pc.pc_data['x'], pc.pc_data['y'], pc.pc_data['z']])\n",
        "    \n",
        "    rotated = rot.T @ cloud + trans.reshape(-1,1)\n",
        "    \n",
        "    pc.pc_data['x'] = rotated[0,:]\n",
        "    pc.pc_data['y'] = rotated[1,:]\n",
        "    pc.pc_data['z'] = rotated[2,:]\n",
        "    if start:\n",
        "      start = False\n",
        "      whole = pc\n",
        "    else:\n",
        "      whole = pcd.cat_point_clouds(whole, pc)\n",
        "      \n",
        "  whole.save_pcd(path_out)"
      ],
      "execution_count": 261,
      "outputs": []
    },
    {
      "cell_type": "code",
      "metadata": {
        "colab": {
          "base_uri": "https://localhost:8080/"
        },
        "id": "kJu_fDNQX1zy",
        "outputId": "82bb8b03-ab71-4d2e-c0d3-51a19dde44b8"
      },
      "source": [
        "roll, pitch, yaw = np.pi/2, np.pi/2, 0\n",
        "v = np.array([0,0,1])\n",
        "v_trans = v @ roll_pitch_yaw(roll, pitch, yaw)\n",
        "print(\"Orig: \", v)\n",
        "print(\"Trans: \", v_trans)"
      ],
      "execution_count": 4,
      "outputs": [
        {
          "output_type": "stream",
          "text": [
            "Orig:  [0 0 1]\n",
            "Trans:  [-6.12323400e-17  1.00000000e+00  3.74939946e-33]\n"
          ],
          "name": "stdout"
        }
      ]
    },
    {
      "cell_type": "code",
      "metadata": {
        "colab": {
          "base_uri": "https://localhost:8080/"
        },
        "id": "F0e0fp_XvGOn",
        "outputId": "41285626-dedd-4b0d-b583-9aeada15df63"
      },
      "source": [
        "'''\n",
        "Build an unified cloud using different parts from the Bremen dataset\n",
        "'''\n",
        "%cd /content/SGD_ICP_PY\n",
        "parts = [0, 1]\n",
        "path_out = '/content/SGD_ICP_PY/data/pcd_bremen/my_bremen.pcd'\n",
        "\n",
        "paths_in = ['/content/SGD_ICP_PY/data/pcd_bremen/pcd_bremen/scan_0{0:02d}.pcd'.format(i) for i in parts]\n",
        "save_whole_cloud(paths_in, path_out)\n",
        "# files.download(path_out) "
      ],
      "execution_count": 4,
      "outputs": [
        {
          "output_type": "stream",
          "text": [
            "/content/SGD_ICP_PY\n"
          ],
          "name": "stdout"
        }
      ]
    },
    {
      "cell_type": "code",
      "metadata": {
        "id": "WSeEXq8Gw6QS"
      },
      "source": [
        "# Create a copy but rotated and translated to try to align them\n",
        "x, y, z, roll, pitch, yaw = 1,3,0,0,0,np.pi/6\n",
        "R, t = roll_pitch_yaw(roll, pitch, yaw), np.array([x,y,z])\n",
        "pc = pcd.point_cloud_from_path(path_out)\n",
        "pc = apply_transform(pc, R, t)\n",
        "\n",
        "path_out_mod = '/content/SGD_ICP_PY/data/pcd_bremen/my_bremen_mod.pcd'\n",
        "pc.save_pcd(path_out_mod)\n",
        "# files.download(path_out_mod)"
      ],
      "execution_count": 5,
      "outputs": []
    },
    {
      "cell_type": "code",
      "metadata": {
        "id": "ZGaX9X9Y7UEb"
      },
      "source": [
        "'''\n",
        "This cell tests the authors code using the clouds defined before\n",
        "'''\n",
        "\n",
        "if False: # This can take time \n",
        "  # Prepare config file\n",
        "  with open('/content/sgd_icp/config.json') as f:\n",
        "    config_dict = json.load(f)\n",
        "  config_dict['normalize-cloud'] = True\n",
        "  initial_guess = {'x': -1.0, 'y': -3.0, 'z': 0.0, 'roll': 0.0, 'pitch': 0.0, 'yaw': round(np.pi/6,3)}\n",
        "  config_dict['initial-guess'] = initial_guess\n",
        "\n",
        "  config_path = '/content/sgd_icp/my_config.json'\n",
        "  with open(config_path, 'w') as f:\n",
        "    json.dump(config_dict, f)\n",
        "  # Test here. Uses PCD format for the clouds. Config file example is given in repository: JSON file with parameters\n",
        "  # align_pcd <source_cloud> <target_cloud> <cofig_file>\n",
        "  %cd /content/sgd_icp/bin\n",
        "  config_def = '/content/sgd_icp/config.json'\n",
        "  !./align_pcd $path_out $path_out_mod $config_def"
      ],
      "execution_count": 6,
      "outputs": []
    },
    {
      "cell_type": "code",
      "metadata": {
        "id": "B_D5A_3V5ndf"
      },
      "source": [
        "%cd /content/SGD_ICP_PY\n",
        "# This values are the output of the sgd_icp method\n",
        "x, y, z, roll, pitch, yaw = 0.859752,2.4057,-1.50104,0.298771,-0.998264,-0.386195\n",
        "R, t = roll_pitch_yaw(roll, pitch, yaw), np.array([x,y,z])\n",
        "pc = pcd.point_cloud_from_path(path_out)\n",
        "apply_transform(pc, R, t)\n",
        "pc.save_pcd('./data/pcd_bremen/my_bremen_sgd_icp.pcd')\n",
        "# files.download('./data/pcd_bremen/my_bremen_sgd_icp.pcd')"
      ],
      "execution_count": null,
      "outputs": []
    },
    {
      "cell_type": "markdown",
      "metadata": {
        "id": "HvxX0IpkcoN7"
      },
      "source": [
        "# Python implementation using the code from class"
      ]
    },
    {
      "cell_type": "code",
      "metadata": {
        "colab": {
          "base_uri": "https://localhost:8080/"
        },
        "id": "1J2ptDyd9qKE",
        "outputId": "28560110-f338-4585-93f1-87bf68bce15c"
      },
      "source": [
        "#\n",
        "#\n",
        "#      0===================================0\n",
        "#      |    TP2 Iterative Closest Point    |\n",
        "#      0===================================0\n",
        "#\n",
        "#\n",
        "#------------------------------------------------------------------------------------------\n",
        "#\n",
        "#      Script of the practical session\n",
        "#\n",
        "#------------------------------------------------------------------------------------------\n",
        "#\n",
        "#      Hugues THOMAS - 17/01/2018\n",
        "#\n",
        "\n",
        "\n",
        "#------------------------------------------------------------------------------------------\n",
        "#\n",
        "#          Imports and global variables\n",
        "#      \\**********************************/\n",
        "#\n",
        "\n",
        "\n",
        "\n",
        "%cd /content/SGD_ICP_PY/sgd_icp_python\n",
        "# Import numpy package and name it \"np\"\n",
        "import numpy as np\n",
        "\n",
        "# Import library to plot in python\n",
        "from matplotlib import pyplot as plt\n",
        "\n",
        "# Import functions from scikit-learn\n",
        "from sklearn.neighbors import KDTree\n",
        "\n",
        "# Import functions to read and write ply files\n",
        "from ply_utils import write_ply, read_ply\n",
        "from visu import show_ICP\n",
        "import time\n",
        "\n",
        "\n",
        "\n",
        "#------------------------------------------------------------------------------------------\n",
        "#\n",
        "#           Functions\n",
        "#       \\***************/\n",
        "#\n",
        "#\n",
        "#   Here you can define usefull functions to be used in the main\n",
        "#\n",
        "\n",
        "\n",
        "def best_rigid_transform(data, ref):\n",
        "    '''\n",
        "    Computes the least-squares best-fit transform that maps corresponding points data to ref.\n",
        "    Inputs :\n",
        "        data = (d x N) matrix where \"N\" is the number of points and \"d\" the dimension\n",
        "         ref = (d x N) matrix where \"N\" is the number of points and \"d\" the dimension\n",
        "    Returns :\n",
        "           R = (d x d) rotation matrix\n",
        "           T = (d x 1) translation vector\n",
        "           Such that R * data + T is aligned on ref\n",
        "    '''\n",
        "    \n",
        "    \n",
        "    p = ref.mean(1).reshape(-1,1)\n",
        "    p_prime = data.mean(1).reshape(-1,1)    \n",
        "    U, S, V = np.linalg.svd((data-p_prime) @ (ref-p).T, full_matrices=False)\n",
        "    V = V.T\n",
        "    R = V @ U.T\n",
        "    if np.linalg.det(R)<0:\n",
        "        U[:,-1] *= -1\n",
        "        R = V @ U.T\n",
        "    \n",
        "    T = p - R @ p_prime\n",
        "    return R, T.reshape(-1,1)\n",
        "\n",
        "\n",
        "def icp_point_to_point(data, ref, max_iter, RMS_threshold, show_progress=False):\n",
        "    '''\n",
        "    Iterative closest point algorithm with a point to point strategy.\n",
        "    Inputs :\n",
        "        data = (d x N_data) matrix where \"N_data\" is the number of points and \"d\" the dimension\n",
        "        ref = (d x N_ref) matrix where \"N_ref\" is the number of points and \"d\" the dimension\n",
        "        max_iter = stop condition on the number of iterations\n",
        "        RMS_threshold = stop condition on the distance\n",
        "    Returns :\n",
        "        data_aligned = data aligned on reference cloud\n",
        "        R_list = list of the (d x d) rotation matrices found at each iteration\n",
        "        T_list = list of the (d x 1) translation vectors found at each iteration\n",
        "        neighbors_list = At each iteration, you search the nearest neighbors of each data point in\n",
        "        the ref cloud and this obtain a (1 x N_data) array of indices. This is the list of those\n",
        "        arrays at each iteration\n",
        "           \n",
        "    '''\n",
        "\n",
        "    # Variable for aligned data\n",
        "    data_aligned = np.copy(data)\n",
        "    \n",
        "    # Initiate lists\n",
        "    R_list = []\n",
        "    T_list = []\n",
        "    neighbors_list = []\n",
        "    RMS_list = []\n",
        "    tree = KDTree(ref.T)\n",
        "    for i in range(max_iter):\n",
        "        # Match points\n",
        "        ind = tree.query(data_aligned.T, return_distance=False).squeeze()\n",
        "        #ICP\n",
        "        R, T = best_rigid_transform(data, ref[:,ind])\n",
        "        data_aligned = R @ data + T\n",
        "        neighbors_list.append(ind)        \n",
        "        R_list.append(R)\n",
        "        T_list.append(T)\n",
        "        rms = RMS(data_aligned, ref[:,ind])\n",
        "        RMS_list.append(rms)\n",
        "        if show_progress: print('{:.3f}'.format(rms))\n",
        "        if rms < RMS_threshold: break\n",
        "    return data_aligned, R_list, T_list, neighbors_list, RMS_list\n",
        "\n",
        "def icp_point_to_point_fast(data, ref, max_iter, RMS_threshold, sampling_limit, resample=False, show_progress=False):\n",
        "    '''\n",
        "    Iterative closest point algorithm with a point to point strategy.\n",
        "    Inputs :\n",
        "        data = (d x N_data) matrix where \"N_data\" is the number of points and \"d\" the dimension\n",
        "        ref = (d x N_ref) matrix where \"N_ref\" is the number of points and \"d\" the dimension\n",
        "        max_iter = stop condition on the number of iterations\n",
        "        RMS_threshold = stop condition on the distance\n",
        "    Returns :\n",
        "        data_aligned = data aligned on reference cloud\n",
        "        R_list = list of the (d x d) rotation matrices found at each iteration\n",
        "        T_list = list of the (d x 1) translation vectors found at each iteration\n",
        "        neighbors_list = At each iteration, you search the nearest neighbors of each data point in\n",
        "        the ref cloud and this obtain a (1 x N_data) array of indices. This is the list of those\n",
        "        arrays at each iteration\n",
        "           \n",
        "    '''\n",
        "\n",
        "    # Variable for aligned data\n",
        "    data_aligned = np.copy(data)\n",
        "    \n",
        "    # Initiate lists\n",
        "    R_list = []\n",
        "    T_list = []\n",
        "    neighbors_list = []\n",
        "    RMS_list = []\n",
        "    tree = KDTree(ref.T)\n",
        "    data_sample_ind = np.random.choice(data.shape[1], size= min(data.shape[1],sampling_limit), replace=False)\n",
        "    for i in range(max_iter):\n",
        "        if resample:\n",
        "            # Sample\n",
        "            data_sample_ind = np.random.choice(data.shape[1], size= min(data.shape[1],sampling_limit), replace=False)\n",
        "        \n",
        "    \n",
        "        # Match points\n",
        "        ind = tree.query(data_aligned[:,data_sample_ind].T, return_distance=False).squeeze()\n",
        "        #ICP\n",
        "        R, T = best_rigid_transform(data[:,data_sample_ind], ref[:,ind])\n",
        "        \n",
        "        data_aligned = R @ data + T\n",
        "        \n",
        "        neighbors_list.append((data_sample_ind,ind))        \n",
        "        R_list.append(R)\n",
        "        T_list.append(T)\n",
        "        ind = tree.query(data_aligned.T, return_distance=False).squeeze()\n",
        "        rms = RMS(data_aligned, ref[:,ind])\n",
        "        RMS_list.append(rms)\n",
        "        if show_progress: print('{:.3f}'.format(rms))\n",
        "        if rms < RMS_threshold: break\n",
        "    \n",
        "    return data_aligned, R_list, T_list, neighbors_list, RMS_list\n",
        "\n",
        "\n",
        "def sgd_icp(source, ref, epochs, RMS_threshold, batch_size, dmax,\n",
        "            show_progress=False, eval_every = 1, theta_init=None,\n",
        "            alpha = lambda i: 0.001, beta1=0.9, beta2=0.999, eps=1e-6,\n",
        "            resample=False):\n",
        "    '''\n",
        "    Iterative closest point algorithm using sgd\n",
        "    Inputs :\n",
        "        source = (d x N_source) matrix where \"N_source\" is the number of points and \"d\" the dimension\n",
        "        ref = (d x N_ref) matrix where \"N_ref\" is the number of points and \"d\" the dimension\n",
        "        epochs = stop condition on the number of iterations\n",
        "        RMS_threshold = stop condition on the distance\n",
        "    Returns :\n",
        "        data_aligned = data aligned on reference cloud\n",
        "        R_list = list of the (d x d) rotation matrices found at each iteration\n",
        "        T_list = list of the (d x 1) translation vectors found at each iteration\n",
        "        neighbors_list = At each iteration, you search the nearest neighbors of each data point in\n",
        "        the ref cloud and this obtain a (1 x N_data) array of indices. This is the list of those\n",
        "        arrays at each iteration\n",
        "           \n",
        "    '''\n",
        "    # Initiate lists\n",
        "    R_list, T_list, norms_list, RMS_list, rms = [], [], [], [], 0     \n",
        "    tree, N = KDTree(ref.T), source.shape[1]    \n",
        "    indices, total_time, last_epoch_time = np.arange(N), 0, 0   \n",
        "    beta1t, beta2t = beta1, beta2\n",
        "\n",
        "    if theta_init is None:\n",
        "      theta = np.zeros(6)\n",
        "    else:\n",
        "      theta = theta_init.copy()\n",
        "\n",
        "    m, v = np.zeros_like(theta), np.zeros_like(theta)\n",
        "    mhat, vhat = np.zeros_like(theta), np.zeros_like(theta)\n",
        "\n",
        "    for i in range(epochs):\n",
        "      start = time.process_time()\n",
        "      \n",
        "      # Shuffle the indices\n",
        "      np.random.shuffle(indices)\n",
        "      \n",
        "      for b in range(N//batch_size):\n",
        "        # print(f'\\tBatch {b} out of {N//batch_size}')\n",
        "        if resample:\n",
        "          batch_ind = np.random.choice(N, batch_size, replace=False)\n",
        "        else:\n",
        "          batch_ind = indices[batch_size*b:batch_size*(b+1)]\n",
        "    \n",
        "        # Match points\n",
        "        R, t = theta_to_tranformation(theta)\n",
        "        transformed = apply_transform(source[:,batch_ind], R, t)\n",
        "        batch_ind, ind = match_points(transformed, batch_ind, tree, dmax = dmax)\n",
        "        \n",
        "        if len(batch_ind)==0: continue\n",
        "        #ICP\n",
        "        # R, T = best_rigid_transform(source[:,batch_ind], ref[:,ind])\n",
        "        \n",
        "        #SGD_ICP\n",
        "        grad = gradient(source[:,batch_ind], ref[:,ind], theta)\n",
        "        norms_list.append(np.linalg.norm(grad))\n",
        "        m, v = beta1*m + (1-beta1)*grad, beta2*v + (1-beta2)*grad*grad        \n",
        "        mhat, vhat = m/(1-beta1t), v/(1-beta2t)\n",
        "        beta1t *= beta1\n",
        "        beta2t *= beta2\n",
        "        if beta2 > 0:\n",
        "          sgd = mhat / (np.sqrt(vhat)+eps)\n",
        "        else:\n",
        "          sgd = mhat\n",
        "        theta = theta - alpha(i)*sgd\n",
        "              \n",
        "      R, T = theta_to_tranformation(theta)\n",
        "      R_list.append(R)\n",
        "      T_list.append(T)\n",
        "      if (i+1)%eval_every==0:        \n",
        "        # Compute RMS\n",
        "        R, t = theta_to_tranformation(theta)\n",
        "        transformed = apply_transform(source, R, t)\n",
        "        ind = tree.query(transformed.T, return_distance=False).squeeze()\n",
        "        rms = RMS(transformed, ref[:,ind])\n",
        "        RMS_list.append(rms)\n",
        "        if show_progress:\n",
        "          print(f'Epoch {i:02d}:\\ntotal time: {total_time:.1f}s\\tlast epoch: {last_epoch_time:.1f}s\\trms: {rms:.3f}')\n",
        "        \n",
        "        if rms < RMS_threshold: break\n",
        "      last_epoch_time = time.process_time() - start\n",
        "      total_time += last_epoch_time\n",
        "    R, t = theta_to_tranformation(theta)\n",
        "    transformed = apply_transform(source, R, t)\n",
        "    return transformed, R_list, T_list, norms_list, RMS_list\n",
        "\n",
        "def match_points(transformed, batch_ind, tree, dmax = np.inf):\n",
        "  dist, ind = tree.query(transformed.T, return_distance=True)\n",
        "  dist, ind  = dist.squeeze(), ind.squeeze()\n",
        "  return batch_ind[(dist<dmax)], ind[(dist<dmax)]\n",
        "\n",
        "def RMS(c1, c2):\n",
        "    return np.sqrt(np.mean(np.sum(np.power(c1 - c2, 2), axis=0)))\n",
        "\n",
        "#------------------------------------------------------------------------------------------\n",
        "#\n",
        "#           Main\n",
        "#       \\**********/\n",
        "#\n",
        "#\n",
        "#   Here you can define the instructions that are called when you execute this file\n",
        "#\n",
        "\n",
        "def read_ply_file(path, fields):\n",
        "  ply_cloud = read_ply(path)\n",
        "  return np.vstack([ply_cloud[f] for f in fields])  \n",
        " "
      ],
      "execution_count": 259,
      "outputs": [
        {
          "output_type": "stream",
          "text": [
            "/content/SGD_ICP_PY/sgd_icp_python\n"
          ],
          "name": "stdout"
        }
      ]
    },
    {
      "cell_type": "code",
      "metadata": {
        "id": "qPumbPuT9vvV"
      },
      "source": [
        "'''\n",
        "Testing the ICp code\n",
        "'''\n",
        "   \n",
        "if False:\n",
        "  print(\"*************** ICP 3D ******************\")\n",
        "  # Cloud paths\n",
        "  bunny_o_path = '../data/bunny_original.ply'\n",
        "  bunny_p_path = '../data/bunny_perturbed.ply'\n",
        "  \n",
        "  # Load clouds\n",
        "  bunny_o = read_ply_file(bunny_o_path, ['x','y','z'])\n",
        "  bunny_p = read_ply_file(bunny_p_path, ['x','y','z'])\n",
        "  \n",
        "  # Apply ICP\n",
        "  bunny_p_opt, R_list, T_list, neighbors_list, RMS_list = icp_point_to_point(bunny_p, bunny_o, 25, 1e-4)\n",
        "  \n",
        "  # Show ICP\n",
        "  prop = 0.3\n",
        "  l_p, l_o = bunny_p.shape[1], bunny_o.shape[1]\n",
        "  sample_p = bunny_p[:,np.random.choice(l_p, int(prop*l_p), replace=False)] \n",
        "  sample_o = bunny_o[:,np.random.choice(l_o, int(prop*l_o), replace=False)]\n",
        "  show_ICP(sample_p, sample_o, R_list, T_list, neighbors_list)\n",
        "  \n",
        "  # Plot RMS\n",
        "  plt.figure()\n",
        "  plt.plot(RMS_list)\n",
        "  plt.title(\"RMS for the 3D bunny example\")\n",
        "  plt.xlabel(\"iteration\")\n",
        "  plt.ylabel(\"RMS value\")\n",
        "  plt.show()\n",
        "\n",
        "if False:\n",
        "\n",
        "  ''' Using samples instead of whole clouds'''\n",
        "  print(\"*************** ICP 3D with sample ******************\")\n",
        "  sample_size = 1000\n",
        "  resample = True\n",
        "  # Cloud paths\n",
        "  nd_ref_path = '../data/Notre_Dame_Des_Champs_1.ply'\n",
        "  nd_data_path = '../data/Notre_Dame_Des_Champs_2.ply'\n",
        "  \n",
        "  # Load clouds\n",
        "  nd_data = read_ply(nd_ref_path)\n",
        "  nd_ref = read_ply(nd_data_path)\n",
        "  \n",
        "  # Apply ICP\n",
        "  nd_opt, R_list, T_list, neighbors_list, RMS_list = icp_point_to_point_fast(nd_data, nd_ref, 15, 1e-4, sample_size, resample=resample)\n",
        "  \n",
        "  # Show ICP\n",
        "  # show_ICP(bunny_p, bunny_o, R_list, T_list, neighbors_list)\n",
        "  \n",
        "  # Apply the tranformation\n",
        "  nd_opt = R_list[-1] @ nd_data + T_list[-1]\n",
        "  \n",
        "  # Save cloud\n",
        "  write_ply('../nd_opt', [nd_opt.T], ['x', 'y', 'z'])\n",
        "  \n",
        "  \n",
        "  # Plot RMS\n",
        "  plt.figure()\n",
        "  plt.plot(RMS_list)\n",
        "  plt.title(\"RMS for the Notre Dame (with sampling of {} points)\\nResample={}\".format(sample_size, resample))\n",
        "  plt.xlabel(\"iteration\")\n",
        "  plt.ylabel(\"RMS value\")\n",
        "  plt.show()\n",
        "  \n",
        "if True:\n",
        "  print(\"*************** SGD ICP 3D ******************\")\n",
        "  # Load Clouds\n",
        "  nd_ref_path = '../data/Notre_Dame_Des_Champs_1.ply'\n",
        "  nd_data_path = '../data/Notre_Dame_Des_Champs_2.ply'\n",
        "  nd_ref = read_ply_file(nd_ref_path, ['x','y','z'])\n",
        "  nd_data= read_ply_file(nd_data_path, ['x','y','z'])\n",
        "  \n",
        "  \n",
        "  data_aligned, R_list, T_list, _, RMS_list = sgd_icp(nd_data, nd_ref, 10, 1e-4, batch_size=int(nd_data.shape[1]//10), dmax=0.5*10000000, show_progress=True, eval_every=3)\n",
        "  \n",
        "  plt.plot(RMS_list)"
      ],
      "execution_count": null,
      "outputs": []
    },
    {
      "cell_type": "code",
      "metadata": {
        "colab": {
          "base_uri": "https://localhost:8080/"
        },
        "id": "Q-HE3CGTcnlG",
        "outputId": "ae386693-b907-4ffb-ecc3-c0849a22d334"
      },
      "source": [
        "%cd /content/SGD_ICP_PY/sgd_icp_python\n",
        "import ICP\n",
        "from ply_utils import read_ply\n",
        "from visu import show_ICP\n",
        "# source = normalize(read_pcd('../data/pcd_bremen/my_bremen.pcd'))\n",
        "source = normalize(read_ply_file('../data/bunny_original.ply', ['x','y','z']))\n",
        "\n",
        "theta_orig = np.array([0,0,0,0,0,np.pi/3])\n",
        "R, t = theta_to_tranformation(theta_orig)\n",
        "ref = apply_transform(source, R, t)"
      ],
      "execution_count": 258,
      "outputs": [
        {
          "output_type": "stream",
          "text": [
            "/content/SGD_ICP_PY/sgd_icp_python\n"
          ],
          "name": "stdout"
        }
      ]
    },
    {
      "cell_type": "code",
      "metadata": {
        "colab": {
          "base_uri": "https://localhost:8080/",
          "height": 282
        },
        "id": "JB9683dOFwLS",
        "outputId": "6f5fad63-c2dd-4b63-fb10-0b1eb589456b"
      },
      "source": [
        "'''\n",
        "Both clouds are in correspondence, so the naive ICP will work.\n",
        "This functions assumes the clouds are already matched\n",
        "'''\n",
        "icp_cloud, R_list, T_list, _, RMS_list = icp_point_to_point(source, ref, 50, 1e-4, show_progress=False)\n",
        "plt.plot(RMS_list)"
      ],
      "execution_count": 251,
      "outputs": [
        {
          "output_type": "execute_result",
          "data": {
            "text/plain": [
              "[<matplotlib.lines.Line2D at 0x7f572f016890>]"
            ]
          },
          "metadata": {
            "tags": []
          },
          "execution_count": 251
        },
        {
          "output_type": "display_data",
          "data": {
            "image/png": "[encoded data removed]",
            "text/plain": [
              "<Figure size 432x288 with 1 Axes>"
            ]
          },
          "metadata": {
            "tags": [],
            "needs_background": "light"
          }
        }
      ]
    },
    {
      "cell_type": "code",
      "metadata": {
        "id": "0Mq0rwICuUZi"
      },
      "source": [
        "'''\n",
        "Now lets shuffle the clouds and try again\n",
        "'''\n",
        "np.random.shuffle(ref.T)\n",
        "icp_cloud_shuffle, R_list_shuffle, T_list_shuffle, _, RMS_list_shuffle = \\\n",
        "  icp_point_to_point(source, ref, 50, 1e-4, show_progress=False)\n",
        "plt.plot(RMS_list_shuffle)"
      ],
      "execution_count": null,
      "outputs": []
    },
    {
      "cell_type": "code",
      "metadata": {
        "colab": {
          "base_uri": "https://localhost:8080/",
          "height": 282
        },
        "id": "CRTzsI-Mncym",
        "outputId": "299f864a-fd2b-402b-8e89-65eaea45a746"
      },
      "source": [
        "init, warm_up, decay = 0.01, 15, 0.999\n",
        "epochs = 200\n",
        "warm_up_decay = lambda i: i*(init/warm_up) if i < warm_up  else init*decay**(int((i-warm_up+1)))\n",
        "y = np.array([alpha(i) for i in np.arange(epochs)])\n",
        "plt.plot(y)"
      ],
      "execution_count": 252,
      "outputs": [
        {
          "output_type": "execute_result",
          "data": {
            "text/plain": [
              "[<matplotlib.lines.Line2D at 0x7f572f030950>]"
            ]
          },
          "metadata": {
            "tags": []
          },
          "execution_count": 252
        },
        {
          "output_type": "display_data",
          "data": {
            "image/png": "[encoded data removed]",
            "text/plain": [
              "<Figure size 432x288 with 1 Axes>"
            ]
          },
          "metadata": {
            "tags": [],
            "needs_background": "light"
          }
        }
      ]
    },
    {
      "cell_type": "code",
      "metadata": {
        "colab": {
          "base_uri": "https://localhost:8080/",
          "height": 514
        },
        "id": "uOna08O2ZjuA",
        "outputId": "e2b585d8-0c23-45c5-80e7-a2eed30e71dc"
      },
      "source": [
        "'''\n",
        "Let's try SGD\n",
        "'''\n",
        "theta_init = add_noise(theta_orig,0,0.001)\n",
        "icp_cloud_sgd, R_list_sgd, T_list_sgd, norms_list, RMS_list_sgd = sgd_icp(source, ref, epochs, 1e-4,\n",
        "            batch_size=10000, dmax=1,\n",
        "            show_progress=False, eval_every = 15, theta_init=theta_init,\n",
        "            alpha = warm_up_decay, beta1=0, beta2=0, eps=1e-6,\n",
        "            resample=False)\n",
        "plt.plot(RMS_list_sgd)\n",
        "plt.show()\n",
        "plt.plot(norms_list)\n",
        "plt.show()"
      ],
      "execution_count": 260,
      "outputs": [
        {
          "output_type": "display_data",
          "data": {
            "image/png": "[encoded data removed]",
            "text/plain": [
              "<Figure size 432x288 with 1 Axes>"
            ]
          },
          "metadata": {
            "tags": [],
            "needs_background": "light"
          }
        },
        {
          "output_type": "display_data",
          "data": {
            "image/png": "[encoded data removed]",
            "text/plain": [
              "<Figure size 432x288 with 1 Axes>"
            ]
          },
          "metadata": {
            "tags": [],
            "needs_background": "light"
          }
        }
      ]
    },
    {
      "cell_type": "code",
      "metadata": {
        "id": "NZzQZyOLmk11",
        "colab": {
          "base_uri": "https://localhost:8080/",
          "height": 282
        },
        "outputId": "3c14c584-4460-411d-c54a-6336f0875fec"
      },
      "source": [
        "sample_size = 2000\n",
        "resample = True\n",
        "'''\n",
        "TODO: Test the one with the sampling\n",
        "TODO: Implement the SGD one\n",
        "TODO: Maybe implement it with torch, using either autograd or plain backprop\n",
        "'''\n",
        "np.random.shuffle(ref.T)\n",
        "icp_sample, R_list_sample, T_list_sample, _, RMS_list_sample = icp_point_to_point_fast(source, ref, 25, 1e-4, sample_size, resample=resample, show_progress=False)\n",
        "plt.plot(RMS_list_sample)"
      ],
      "execution_count": 254,
      "outputs": [
        {
          "output_type": "execute_result",
          "data": {
            "text/plain": [
              "[<matplotlib.lines.Line2D at 0x7f572f6fbdd0>]"
            ]
          },
          "metadata": {
            "tags": []
          },
          "execution_count": 254
        },
        {
          "output_type": "display_data",
          "data": {
            "image/png": "[encoded data removed]",
            "text/plain": [
              "<Figure size 432x288 with 1 Axes>"
            ]
          },
          "metadata": {
            "tags": [],
            "needs_background": "light"
          }
        }
      ]
    },
    {
      "cell_type": "code",
      "metadata": {
        "id": "dwcjhATyOjbd"
      },
      "source": [
        "import plotly.express as px\n",
        "import pandas as pd\n",
        "sp = dropout(source, 0.5)\n",
        "rp = dropout(ref, 0.5)\n",
        "R, T = theta_to_tranformation(theta_init)\n",
        "tp = apply_transform(sp, R, T)\n",
        "tp = dropout(icp_cloud_sgd, 0.5)\n",
        "df = pd.concat([pd.DataFrame(data={'cloud':'source','x':sp[0,:],'y':sp[1,:],'z':sp[2,:]}),\n",
        "                pd.DataFrame(data={'cloud':'ref','x':rp[0,:],'y':rp[1,:],'z':rp[2,:]}),\n",
        "                pd.DataFrame(data={'cloud':'icp','x':tp[0,:],'y':tp[1,:],'z':tp[2,:]})])\n",
        "df['size'] = 3\n",
        "fig = px.scatter_3d(df, x='x', y='y', z='z',\n",
        "              color='cloud')\n",
        "fig.show()"
      ],
      "execution_count": null,
      "outputs": []
    },
    {
      "cell_type": "code",
      "metadata": {
        "colab": {
          "base_uri": "https://localhost:8080/"
        },
        "id": "sf9B2XpoxD0X",
        "outputId": "696e59c7-57ab-4be8-ad43-8bf8d10dd489"
      },
      "source": [
        "source = np.array([0,0,1]).reshape(3,1)\n",
        "sq = np.sqrt(3)\n",
        "ref = np.array([1/sq,1/sq,1/sq]).reshape(3,1)\n",
        "theta = np.zeros(6)\n",
        "\n",
        "theta = theta-0.1*gradient(source, ref, theta)\n",
        "res = apply_transform_from_theta(source, theta)\n",
        "print(res)\n"
      ],
      "execution_count": 318,
      "outputs": [
        {
          "output_type": "stream",
          "text": [
            "[[0.12187565]\n",
            " [0.06336376]\n",
            " [0.56875611]]\n"
          ],
          "name": "stdout"
        }
      ]
    }
  ]
}