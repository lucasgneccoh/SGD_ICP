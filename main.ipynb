{
  "nbformat": 4,
  "nbformat_minor": 0,
  "metadata": {
    "colab": {
      "name": "main.ipynb",
      "provenance": [],
      "collapsed_sections": [],
      "toc_visible": true,
      "authorship_tag": "ABX9TyP/rWalg49yPKRX+21o9ZX0",
      "include_colab_link": true
    },
    "kernelspec": {
      "name": "python3",
      "display_name": "Python 3"
    },
    "language_info": {
      "name": "python"
    }
  },
  "cells": [
    {
      "cell_type": "markdown",
      "metadata": {
        "id": "view-in-github",
        "colab_type": "text"
      },
      "source": [
        "<a href=\"https://colab.research.google.com/github/lucasgneccoh/SGD_ICP_PY/blob/main/main.ipynb\" target=\"_parent\"><img src=\"https://colab.research.google.com/assets/colab-badge.svg\" alt=\"Open In Colab\"/></a>"
      ]
    },
    {
      "cell_type": "markdown",
      "metadata": {
        "id": "htovwa9SD5XU"
      },
      "source": [
        "# Authors implementation"
      ]
    },
    {
      "cell_type": "code",
      "metadata": {
        "id": "zTSbikgEGbfl"
      },
      "source": [
        "%%capture\n",
        "%cd /content\n",
        "!git clone https://bitbucket.org/fafz/sgd_icp.git\n",
        "!sudo apt install libeigen3-dev\n",
        "!sudo apt install libpcl-dev\n",
        "%cd /content/sgd_icp\n",
        "!mkdir build\n",
        "%cd build\n",
        "!cmake -DCMAKE_BUILD_TYPE=Release /content/sgd_icp\n",
        "!make"
      ],
      "execution_count": null,
      "outputs": []
    },
    {
      "cell_type": "code",
      "metadata": {
        "id": "dW7ep3CSuFxb"
      },
      "source": [
        "%%capture\n",
        "%cd /content\n",
        "!git clone https://github.com/lucasgneccoh/SGD_ICP_PY.git\n",
        "!pip install lzf\n",
        "'''\n",
        "Setup pypcd\n",
        "'''\n",
        "%cd /content/SGD_ICP_PY/pypcd/\n",
        "!python setup.py build\n",
        "!python setup.py install"
      ],
      "execution_count": null,
      "outputs": []
    },
    {
      "cell_type": "code",
      "metadata": {
        "id": "DGN9pzt8NslB"
      },
      "source": [
        "import os\n",
        "import numpy as np\n",
        "from pypcd import pypcd as pcd\n",
        "from google.colab import files\n",
        "import json\n",
        "import matplotlib.pyplot as plt\n",
        "\n",
        "\n",
        "def quaternion_rotation_matrix(Q):\n",
        "    \"\"\"\n",
        "    Covert a quaternion into a full three-dimensional rotation matrix.\n",
        " \n",
        "    Input\n",
        "    :param Q: A 4 element array representing the quaternion (q0,q1,q2,q3) \n",
        " \n",
        "    Output\n",
        "    :return: A 3x3 element matrix representing the full 3D rotation matrix. \n",
        "             This rotation matrix converts a point in the local reference \n",
        "             frame to a point in the global reference frame.\n",
        "    \"\"\"\n",
        "    # Extract the values from Q\n",
        "    q0 = Q[0]\n",
        "    q1 = Q[1]\n",
        "    q2 = Q[2]\n",
        "    q3 = Q[3]\n",
        "     \n",
        "    # First row of the rotation matrix\n",
        "    r00 = 2 * (q0 * q0 + q1 * q1) - 1\n",
        "    r01 = 2 * (q1 * q2 - q0 * q3)\n",
        "    r02 = 2 * (q1 * q3 + q0 * q2)\n",
        "     \n",
        "    # Second row of the rotation matrix\n",
        "    r10 = 2 * (q1 * q2 + q0 * q3)\n",
        "    r11 = 2 * (q0 * q0 + q2 * q2) - 1\n",
        "    r12 = 2 * (q2 * q3 - q0 * q1)\n",
        "     \n",
        "    # Third row of the rotation matrix\n",
        "    r20 = 2 * (q1 * q3 - q0 * q2)\n",
        "    r21 = 2 * (q2 * q3 + q0 * q1)\n",
        "    r22 = 2 * (q0 * q0 + q3 * q3) - 1\n",
        "     \n",
        "    # 3x3 rotation matrix\n",
        "    rot_matrix = np.array([[r00, r01, r02],\n",
        "                           [r10, r11, r12],\n",
        "                           [r20, r21, r22]])\n",
        "                            \n",
        "    return rot_matrix\n",
        "\n",
        "def roll_pitch_yaw(ax, ay, az):\n",
        "  cx, sx = np.cos(ax), np.sin(ax)\n",
        "  cy, sy = np.cos(ay), np.sin(ay)\n",
        "  cz, sz = np.cos(az), np.sin(az)\n",
        "  \n",
        "  R = np.array([[cz*cy, cz*sx*sy-sz*cx, cz*sx*sy+sz*sy],\n",
        "                [sz*cy, sz*sx*sy+cz*cx, sz*sx*sy-cz*sx],\n",
        "                [-sy, cy*sx, cy*cx]])\n",
        "  return R\n",
        "\n",
        "\n",
        "def add_noise(pc, mean, std):\n",
        "  return pc + np.random.normal(loc=mean, scale=std, size=pc.shape)\n",
        "\n",
        "def apply_transform(pc, R, t):\n",
        "  if isinstance(pc, pcd.PointCloud):\n",
        "    cloud = np.vstack([pc.pc_data['x'], pc.pc_data['y'], pc.pc_data['z']])\n",
        "    cloud = R.T @ cloud + t.reshape(-1,1)\n",
        "    for a, i in zip(['x', 'y', 'z'], range(3)):\n",
        "      pc.pc_data[a] = cloud[i,:]\n",
        "  else:\n",
        "    pc = R.T @ pc +  t.reshape(-1,1)    \n",
        "  return pc\n",
        "\n",
        "\n",
        "def read_pcd(path):\n",
        "  pc = pcd.point_cloud_from_path(path)\n",
        "  return np.vstack([pc.pc_data['x'], pc.pc_data['y'], pc.pc_data['z']])\n",
        "\n",
        "def dropout(cloud, drop_prop):\n",
        "  ind = (np.random.uniform(size=cloud.shape[1])>drop_prop)\n",
        "  return cloud[:,ind]\n",
        "\n",
        "def save_whole_cloud(paths_in, path_out):\n",
        "  start = True\n",
        "  whole = None\n",
        "  for path_in in paths_in:\n",
        "    pc = pcd.point_cloud_from_path(path_in)\n",
        "    meta = pc.get_metadata()\n",
        "    trans = np.array(meta['viewpoint'][:3])\n",
        "    rot = quaternion_rotation_matrix(meta['viewpoint'][3:]).T\n",
        "    \n",
        "    cloud = np.vstack([pc.pc_data['x'], pc.pc_data['y'], pc.pc_data['z']])\n",
        "    \n",
        "    rotated = rot.T @ cloud + trans.reshape(-1,1)\n",
        "    \n",
        "    pc.pc_data['x'] = rotated[0,:]\n",
        "    pc.pc_data['y'] = rotated[1,:]\n",
        "    pc.pc_data['z'] = rotated[2,:]\n",
        "    if start:\n",
        "      start = False\n",
        "      whole = pc\n",
        "    else:\n",
        "      whole = pcd.cat_point_clouds(whole, pc)\n",
        "      \n",
        "  whole.save_pcd(path_out)"
      ],
      "execution_count": 20,
      "outputs": []
    },
    {
      "cell_type": "code",
      "metadata": {
        "colab": {
          "base_uri": "https://localhost:8080/"
        },
        "id": "F0e0fp_XvGOn",
        "outputId": "09e22b83-ca57-4a2a-e680-ffce636f23c0"
      },
      "source": [
        "'''\n",
        "Build an unified cloud using different parts from the Bremen dataset\n",
        "'''\n",
        "%cd /content/SGD_ICP_PY\n",
        "parts = [0, 1]\n",
        "path_out = '/content/SGD_ICP_PY/data/pcd_bremen/my_bremen.pcd'\n",
        "\n",
        "paths_in = ['/content/SGD_ICP_PY/data/pcd_bremen/pcd_bremen/scan_0{0:02d}.pcd'.format(i) for i in parts]\n",
        "save_whole_cloud(paths_in, path_out)\n",
        "# files.download(path_out) "
      ],
      "execution_count": 6,
      "outputs": [
        {
          "output_type": "stream",
          "text": [
            "/content/SGD_ICP_PY\n"
          ],
          "name": "stdout"
        }
      ]
    },
    {
      "cell_type": "code",
      "metadata": {
        "id": "WSeEXq8Gw6QS"
      },
      "source": [
        "# Create a copy but rotated and translated to try to align them\n",
        "x, y, z, roll, pitch, yaw = 1,3,0,0,0,np.pi/6\n",
        "R, t = roll_pitch_yaw(roll, pitch, yaw), np.array([x,y,z])\n",
        "pc = pcd.point_cloud_from_path(path_out)\n",
        "pc = apply_transform(pc, R, t)\n",
        "\n",
        "path_out_mod = '/content/SGD_ICP_PY/data/pcd_bremen/my_bremen_mod.pcd'\n",
        "pc.save_pcd(path_out_mod)\n",
        "# files.download(path_out_mod)"
      ],
      "execution_count": 7,
      "outputs": []
    },
    {
      "cell_type": "code",
      "metadata": {
        "id": "ZGaX9X9Y7UEb"
      },
      "source": [
        "# Prepare config file\n",
        "with open('/content/sgd_icp/config.json') as f:\n",
        "  config_dict = json.load(f)\n",
        "config_dict['normalize-cloud'] = True\n",
        "initial_guess = {'x': -1.0, 'y': -3.0, 'z': 0.0, 'roll': 0.0, 'pitch': 0.0, 'yaw': round(np.pi/6,3)}\n",
        "config_dict['initial-guess'] = initial_guess\n",
        "\n",
        "config_path = '/content/sgd_icp/my_config.json'\n",
        "with open(config_path, 'w') as f:\n",
        "  json.dump(config_dict, f)"
      ],
      "execution_count": null,
      "outputs": []
    },
    {
      "cell_type": "code",
      "metadata": {
        "colab": {
          "base_uri": "https://localhost:8080/"
        },
        "id": "oZrt2qex2Ql8",
        "outputId": "ce559452-3dca-42f1-c42c-6db83cc369b2"
      },
      "source": [
        "# Test here. Uses PCD format for the clouds. Config file example is given in repository: JSON file with parameters\n",
        "# align_pcd <source_cloud> <target_cloud> <cofig_file>\n",
        "%cd /content/sgd_icp/bin\n",
        "config_def = '/content/sgd_icp/config.json'\n",
        "!./align_pcd $path_out $path_out_mod $config_def"
      ],
      "execution_count": null,
      "outputs": [
        {
          "output_type": "stream",
          "text": [
            "/content/sgd_icp/bin\n",
            "Iterations: 150 converged: 0\n",
            "ICP Duration: 2375 ms\n",
            "RMSE: 0.252047\n",
            "Transformation_matrix:\n",
            "  0.977377   0.207696 -0.0399691    2.07443\n",
            " -0.202106   0.972822    0.11301    2.04071\n",
            " 0.0623544  -0.102375    0.99279   0.501015\n",
            "         0          0          0          1\n",
            "[x, y, z, roll, pitch, yaw] = [2.07443,2.04071,0.501015,-0.102755,-0.0623948,-0.20391]\n"
          ],
          "name": "stdout"
        }
      ]
    },
    {
      "cell_type": "code",
      "metadata": {
        "colab": {
          "base_uri": "https://localhost:8080/"
        },
        "id": "B_D5A_3V5ndf",
        "outputId": "0d09acb0-fbf4-437a-c96f-9eb977d5fcf3"
      },
      "source": [
        "%cd /content/SGD_ICP_PY\n",
        "# This values are the output of the sgd_icp method\n",
        "x, y, z, roll, pitch, yaw = 0.859752,2.4057,-1.50104,0.298771,-0.998264,-0.386195\n",
        "R, t = roll_pitch_yaw(roll, pitch, yaw), np.array([x,y,z])\n",
        "pc = pcd.point_cloud_from_path(path_out)\n",
        "apply_transform(pc, R, t)\n",
        "pc.save_pcd('./data/pcd_bremen/my_bremen_sgd_icp.pcd')\n",
        "# files.download('./data/pcd_bremen/my_bremen_sgd_icp.pcd')"
      ],
      "execution_count": null,
      "outputs": [
        {
          "output_type": "stream",
          "text": [
            "/content/SGD_ICP_PY\n",
            "(2805929, 3)\n",
            "(3, 3)\n",
            "{'version': '.7', 'fields': ['x', 'y', 'z', 'intensity'], 'size': [4, 4, 4, 4], 'type': ['F', 'F', 'F', 'F'], 'count': [1, 1, 1, 1], 'width': 2805929, 'height': 1, 'viewpoint': [0.0, 0.0, 0.0, 1.0, 0.0, 0.0, 0.0], 'points': 2805929, 'data': 'binary'}\n"
          ],
          "name": "stdout"
        }
      ]
    },
    {
      "cell_type": "markdown",
      "metadata": {
        "id": "HvxX0IpkcoN7"
      },
      "source": [
        "# Python implementation using the code from class"
      ]
    },
    {
      "cell_type": "code",
      "metadata": {
        "colab": {
          "base_uri": "https://localhost:8080/"
        },
        "id": "Q-HE3CGTcnlG",
        "outputId": "ef7bcf89-53eb-4f7e-d13e-785d1c8cdbbe"
      },
      "source": [
        "%cd /content/SGD_ICP_PY/sgd_icp_python\n",
        "import ICP\n",
        "from ply_utils import read_ply\n",
        "cloud = read_pcd('../data/pcd_bremen/my_bremen.pcd')\n",
        "\n",
        "x, y, z, roll, pitch, yaw = 1,3,0,0,0,np.pi/6\n",
        "R, t = roll_pitch_yaw(roll, pitch, yaw), np.array([x,y,z])\n",
        "ref = apply_transform(cloud, R.T, t)\n",
        "\n",
        "icp_cloud, R_list, T_list, _, RMS_list = ICP.icp_point_to_point(cloud, ref, 25, 1e-4, show_progress=True)"
      ],
      "execution_count": 8,
      "outputs": [
        {
          "output_type": "stream",
          "text": [
            "/content/SGD_ICP_PY/sgd_icp_python\n",
            "15.028\n",
            "13.596\n",
            "11.809\n",
            "10.571\n",
            "9.722\n",
            "9.098\n",
            "8.513\n",
            "7.857\n",
            "7.184\n",
            "6.578\n",
            "6.105\n",
            "5.737\n",
            "5.378\n",
            "4.962\n",
            "4.532\n",
            "4.064\n",
            "3.509\n",
            "2.969\n",
            "2.539\n",
            "2.172\n",
            "1.864\n",
            "1.580\n",
            "1.312\n",
            "1.070\n",
            "0.862\n"
          ],
          "name": "stdout"
        }
      ]
    },
    {
      "cell_type": "code",
      "metadata": {
        "colab": {
          "base_uri": "https://localhost:8080/"
        },
        "id": "0Mq0rwICuUZi",
        "outputId": "24612b21-7393-465f-e839-17c70ff682e2"
      },
      "source": [
        "icp_cloud, R_list, T_list, _, RMS_list = ICP.icp_point_to_point(icp_cloud, ref, 10, 1e-4, show_progress=True)"
      ],
      "execution_count": 22,
      "outputs": [
        {
          "output_type": "stream",
          "text": [
            "0.693\n",
            "0.557\n",
            "0.448\n",
            "0.361\n",
            "0.290\n",
            "0.235\n",
            "0.191\n",
            "0.157\n",
            "0.129\n",
            "0.108\n"
          ],
          "name": "stdout"
        }
      ]
    },
    {
      "cell_type": "code",
      "metadata": {
        "id": "wn4Oz2J-maCm",
        "colab": {
          "base_uri": "https://localhost:8080/",
          "height": 282
        },
        "outputId": "6930f81f-fa45-47b8-bd24-8aadec5f1874"
      },
      "source": [
        "plt.plot(RMS_list)"
      ],
      "execution_count": 23,
      "outputs": [
        {
          "output_type": "execute_result",
          "data": {
            "text/plain": [
              "[<matplotlib.lines.Line2D at 0x7f52b99b1c10>]"
            ]
          },
          "metadata": {
            "tags": []
          },
          "execution_count": 23
        },
        {
          "output_type": "display_data",
          "data": {
            "image/png": "[encoded data removed]",
            "text/plain": [
              "<Figure size 432x288 with 1 Axes>"
            ]
          },
          "metadata": {
            "tags": [],
            "needs_background": "light"
          }
        }
      ]
    },
    {
      "cell_type": "code",
      "metadata": {
        "id": "NZzQZyOLmk11"
      },
      "source": [
        "sample_size = 1000\n",
        "resample = True\n",
        "'''\n",
        "TODO: Test the one with the sampling\n",
        "TODO: Implement the SGD one\n",
        "TODO: Maybe implement it with torch, using either autograd or plain backprop\n",
        "'''\n",
        "icp_sample, R_list, T_list, _, RMS_list = icp_point_to_point_fast(cloud, ref, 25, 1e-4, sample_size, resample=resample)"
      ],
      "execution_count": null,
      "outputs": []
    }
  ]
}