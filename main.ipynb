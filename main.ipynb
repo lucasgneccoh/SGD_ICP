{
  "nbformat": 4,
  "nbformat_minor": 0,
  "metadata": {
    "colab": {
      "name": "main.ipynb",
      "provenance": [],
      "collapsed_sections": [],
      "authorship_tag": "ABX9TyMVY29oErxrG01YMoqOjCWY",
      "include_colab_link": true
    },
    "kernelspec": {
      "name": "python3",
      "display_name": "Python 3"
    },
    "language_info": {
      "name": "python"
    }
  },
  "cells": [
    {
      "cell_type": "markdown",
      "metadata": {
        "id": "view-in-github",
        "colab_type": "text"
      },
      "source": [
        "<a href=\"https://colab.research.google.com/github/lucasgneccoh/SGD_ICP_PY/blob/main/main.ipynb\" target=\"_parent\"><img src=\"https://colab.research.google.com/assets/colab-badge.svg\" alt=\"Open In Colab\"/></a>"
      ]
    },
    {
      "cell_type": "markdown",
      "metadata": {
        "id": "htovwa9SD5XU"
      },
      "source": [
        "# Authors implementation"
      ]
    },
    {
      "cell_type": "code",
      "metadata": {
        "id": "zTSbikgEGbfl"
      },
      "source": [
        "%%capture\n",
        "%cd /content\n",
        "!git clone https://bitbucket.org/fafz/sgd_icp.git\n",
        "!sudo apt install libeigen3-dev\n",
        "!sudo apt install libpcl-dev\n",
        "%cd /content/sgd_icp\n",
        "!mkdir build\n",
        "%cd build\n",
        "!cmake -DCMAKE_BUILD_TYPE=Release /content/sgd_icp\n",
        "!make"
      ],
      "execution_count": 32,
      "outputs": []
    },
    {
      "cell_type": "markdown",
      "metadata": {
        "id": "Fj5kQRuPHiH1"
      },
      "source": [
        "# Python implementation using code from the course"
      ]
    },
    {
      "cell_type": "code",
      "metadata": {
        "id": "-Fhvwgg1HmDq"
      },
      "source": [
        "%cd /content\n",
        "!git clone https://github.com/lucasgneccoh/SGD_ICP_PY.git"
      ],
      "execution_count": null,
      "outputs": []
    },
    {
      "cell_type": "code",
      "metadata": {
        "colab": {
          "base_uri": "https://localhost:8080/"
        },
        "id": "B8ty2LlLu-Yg",
        "outputId": "c14b3a5b-0575-4baa-8cfe-549aba0a39cc"
      },
      "source": [
        "!pip install lzf"
      ],
      "execution_count": 5,
      "outputs": [
        {
          "output_type": "stream",
          "text": [
            "Collecting lzf\n",
            "  Downloading https://files.pythonhosted.org/packages/ef/f7/70aa6aacd6bc865e74dae319bb262078d59f6cf90584da2bbe7307b52565/lzf-0.1.tar.gz\n",
            "Requirement already satisfied: cffi>=1.0.0 in /usr/local/lib/python3.7/dist-packages (from lzf) (1.14.5)\n",
            "Requirement already satisfied: pycparser in /usr/local/lib/python3.7/dist-packages (from cffi>=1.0.0->lzf) (2.20)\n",
            "Building wheels for collected packages: lzf\n",
            "  Building wheel for lzf (setup.py) ... \u001b[?25l\u001b[?25hdone\n",
            "  Created wheel for lzf: filename=lzf-0.1-cp37-cp37m-linux_x86_64.whl size=21866 sha256=be72779bcc4bff5dfa0582b3526b233f4afd0a34b868206300cd63ac8bcaf7c2\n",
            "  Stored in directory: /root/.cache/pip/wheels/8f/33/6c/96ede027dcf01da293eacb45ba8bb48bae0b14d44e4f8e8dd9\n",
            "Successfully built lzf\n",
            "Installing collected packages: lzf\n",
            "Successfully installed lzf-0.1\n"
          ],
          "name": "stdout"
        }
      ]
    },
    {
      "cell_type": "code",
      "metadata": {
        "id": "dW7ep3CSuFxb"
      },
      "source": [
        "%%capture\n",
        "'''\n",
        "Setup pypcd\n",
        "'''\n",
        "%cd /content/SGD_ICP_PY/pypcd/\n",
        "!python setup.py build\n",
        "!python setup.py install"
      ],
      "execution_count": 6,
      "outputs": []
    },
    {
      "cell_type": "code",
      "metadata": {
        "id": "DGN9pzt8NslB"
      },
      "source": [
        "import os\n",
        "import numpy as np\n",
        "from pypcd import pypcd as pcd\n",
        "from google.colab import files\n",
        "import json\n",
        "\n",
        "\n",
        "def quaternion_rotation_matrix(Q):\n",
        "    \"\"\"\n",
        "    Covert a quaternion into a full three-dimensional rotation matrix.\n",
        " \n",
        "    Input\n",
        "    :param Q: A 4 element array representing the quaternion (q0,q1,q2,q3) \n",
        " \n",
        "    Output\n",
        "    :return: A 3x3 element matrix representing the full 3D rotation matrix. \n",
        "             This rotation matrix converts a point in the local reference \n",
        "             frame to a point in the global reference frame.\n",
        "    \"\"\"\n",
        "    # Extract the values from Q\n",
        "    q0 = Q[0]\n",
        "    q1 = Q[1]\n",
        "    q2 = Q[2]\n",
        "    q3 = Q[3]\n",
        "     \n",
        "    # First row of the rotation matrix\n",
        "    r00 = 2 * (q0 * q0 + q1 * q1) - 1\n",
        "    r01 = 2 * (q1 * q2 - q0 * q3)\n",
        "    r02 = 2 * (q1 * q3 + q0 * q2)\n",
        "     \n",
        "    # Second row of the rotation matrix\n",
        "    r10 = 2 * (q1 * q2 + q0 * q3)\n",
        "    r11 = 2 * (q0 * q0 + q2 * q2) - 1\n",
        "    r12 = 2 * (q2 * q3 - q0 * q1)\n",
        "     \n",
        "    # Third row of the rotation matrix\n",
        "    r20 = 2 * (q1 * q3 - q0 * q2)\n",
        "    r21 = 2 * (q2 * q3 + q0 * q1)\n",
        "    r22 = 2 * (q0 * q0 + q3 * q3) - 1\n",
        "     \n",
        "    # 3x3 rotation matrix\n",
        "    rot_matrix = np.array([[r00, r01, r02],\n",
        "                           [r10, r11, r12],\n",
        "                           [r20, r21, r22]])\n",
        "                            \n",
        "    return rot_matrix\n",
        "\n",
        "def roll_pitch_yaw(ax, ay, az):\n",
        "  cx, sx = np.cos(ax), np.sin(ax)\n",
        "  cy, sy = np.cos(ay), np.sin(ay)\n",
        "  cz, sz = np.cos(az), np.sin(az)\n",
        "  \n",
        "  R = np.array([[cz*cy, cz*sx*sy-sz*cx, cz*sx*sy+sz*sy],\n",
        "                [sz*cy, sz*sx*sy+cz*cx, sz*sx*sy-cz*sx],\n",
        "                [-sy, cy*sx, cy*cx]])\n",
        "  return R\n",
        "\n",
        "\n",
        "def add_noise(pc, mean, std):\n",
        "  return pc + np.random.normal(loc=mean, scale=std, size=pc.shape)\n",
        "\n",
        "def apply_transform(pc, R, t):\n",
        "  cloud = np.vstack([pc.pc_data['x'], pc.pc_data['y'], pc.pc_data['z']]).T\n",
        "  print(cloud.shape)\n",
        "  print(R.shape)\n",
        "  cloud = cloud @ R + t.reshape(1,-1)\n",
        "  \n",
        "  for a, i in zip(['x', 'y', 'z'], range(3)):\n",
        "    pc.pc_data[a] = cloud[:,i]\n",
        "  return\n",
        "\n",
        "\n",
        "def save_whole_cloud(paths_in, path_out):\n",
        "  start = True\n",
        "  whole = None\n",
        "  for path_in in paths_in:\n",
        "    pc = pcd.point_cloud_from_path(path_in)\n",
        "    meta = pc.get_metadata()\n",
        "    trans = np.array(meta['viewpoint'][:3])\n",
        "    rot = quaternion_rotation_matrix(meta['viewpoint'][3:]).T\n",
        "    \n",
        "    cloud = np.vstack([pc.pc_data['x'], pc.pc_data['y'], pc.pc_data['z']])\n",
        "    \n",
        "    rotated = rot.T @ cloud + trans.reshape(-1,1)\n",
        "    \n",
        "    pc.pc_data['x'] = rotated[0,:]\n",
        "    pc.pc_data['y'] = rotated[1,:]\n",
        "    pc.pc_data['z'] = rotated[2,:]\n",
        "    if start:\n",
        "      start = False\n",
        "      whole = pc\n",
        "    else:\n",
        "      whole = pcd.cat_point_clouds(whole, pc)\n",
        "      \n",
        "  whole.save_pcd(path_out)"
      ],
      "execution_count": 40,
      "outputs": []
    },
    {
      "cell_type": "code",
      "metadata": {
        "colab": {
          "base_uri": "https://localhost:8080/"
        },
        "id": "F0e0fp_XvGOn",
        "outputId": "b60c20b0-f0ef-4e69-d4cb-0ba481c05bef"
      },
      "source": [
        "'''\n",
        "Build an unified cloud using different parts from the Bremen dataset\n",
        "'''\n",
        "%cd /content/SGD_ICP_PY\n",
        "parts = [0, 1]\n",
        "path_out = '/content/SGD_ICP_PY/data/pcd_bremen/my_bremen.pcd'\n",
        "\n",
        "paths_in = ['/content/SGD_ICP_PY/data/pcd_bremen/pcd_bremen/scan_0{0:02d}.pcd'.format(i) for i in parts]\n",
        "save_whole_cloud(paths_in, path_out)\n",
        "files.download(path_out) "
      ],
      "execution_count": 62,
      "outputs": [
        {
          "output_type": "stream",
          "text": [
            "{'fields': ['x', 'y', 'z', 'intensity'], 'size': [4, 4, 4, 4], 'type': ['F', 'F', 'F', 'F'], 'count': [1, 1, 1, 1], 'width': 2805929, 'height': 1, 'viewpoint': [0.0, 0.0, 0.0, 1.0, 0.0, 0.0, 0.0], 'points': 2805929, 'data': 'binary', 'version': '.7'}\n"
          ],
          "name": "stdout"
        }
      ]
    },
    {
      "cell_type": "code",
      "metadata": {
        "colab": {
          "base_uri": "https://localhost:8080/"
        },
        "id": "WSeEXq8Gw6QS",
        "outputId": "76829288-2893-4a59-898d-c5af8ddba036"
      },
      "source": [
        "# Create a copy but rotated and translated to try to align them\n",
        "x, y, z, roll, pitch, yaw = 1,3,0,0,0,np.pi/6\n",
        "R, t = roll_pitch_yaw(roll, pitch, yaw), np.array([x,y,z])\n",
        "pc = pcd.point_cloud_from_path(path_out)\n",
        "apply_transform(pc, R, t)\n",
        "\n",
        "path_out_mod = '/content/SGD_ICP_PY/data/pcd_bremen/my_bremen_mod.pcd'\n",
        "pc.save_pcd(path_out_mod)\n",
        "files.download(path_out_mod)"
      ],
      "execution_count": 63,
      "outputs": [
        {
          "output_type": "stream",
          "text": [
            "(2805929, 3)\n",
            "(3, 3)\n",
            "{'version': '.7', 'fields': ['x', 'y', 'z', 'intensity'], 'size': [4, 4, 4, 4], 'type': ['F', 'F', 'F', 'F'], 'count': [1, 1, 1, 1], 'width': 2805929, 'height': 1, 'viewpoint': [0.0, 0.0, 0.0, 1.0, 0.0, 0.0, 0.0], 'points': 2805929, 'data': 'binary'}\n"
          ],
          "name": "stdout"
        }
      ]
    },
    {
      "cell_type": "code",
      "metadata": {
        "id": "ZGaX9X9Y7UEb"
      },
      "source": [
        "# Prepare config file\n",
        "with open('/content/sgd_icp/config.json') as f:\n",
        "  config_dict = json.load(f)\n",
        "config_dict['normalize-cloud'] = True\n",
        "initial_guess = {'x': -1.0, 'y': -3.0, 'z': 0.0, 'roll': 0.0, 'pitch': 0.0, 'yaw': round(np.pi/6,3)}\n",
        "config_dict['initial-guess'] = initial_guess\n",
        "\n",
        "config_path = '/content/sgd_icp/my_config.json'\n",
        "with open(config_path, 'w') as f:\n",
        "  json.dump(config_dict, f)"
      ],
      "execution_count": 66,
      "outputs": []
    },
    {
      "cell_type": "code",
      "metadata": {
        "colab": {
          "base_uri": "https://localhost:8080/"
        },
        "id": "oZrt2qex2Ql8",
        "outputId": "ce559452-3dca-42f1-c42c-6db83cc369b2"
      },
      "source": [
        "# Test here. Uses PCD format for the clouds. Config file example is given in repository: JSON file with parameters\n",
        "# align_pcd <source_cloud> <target_cloud> <cofig_file>\n",
        "%cd /content/sgd_icp/bin\n",
        "config_def = '/content/sgd_icp/config.json'\n",
        "!./align_pcd $path_out $path_out_mod $config_def"
      ],
      "execution_count": 68,
      "outputs": [
        {
          "output_type": "stream",
          "text": [
            "/content/sgd_icp/bin\n",
            "Iterations: 150 converged: 0\n",
            "ICP Duration: 2375 ms\n",
            "RMSE: 0.252047\n",
            "Transformation_matrix:\n",
            "  0.977377   0.207696 -0.0399691    2.07443\n",
            " -0.202106   0.972822    0.11301    2.04071\n",
            " 0.0623544  -0.102375    0.99279   0.501015\n",
            "         0          0          0          1\n",
            "[x, y, z, roll, pitch, yaw] = [2.07443,2.04071,0.501015,-0.102755,-0.0623948,-0.20391]\n"
          ],
          "name": "stdout"
        }
      ]
    },
    {
      "cell_type": "code",
      "metadata": {
        "colab": {
          "base_uri": "https://localhost:8080/"
        },
        "id": "B_D5A_3V5ndf",
        "outputId": "0d09acb0-fbf4-437a-c96f-9eb977d5fcf3"
      },
      "source": [
        "%cd /content/SGD_ICP_PY\n",
        "# This values are the output of the sgd_icp method\n",
        "x, y, z, roll, pitch, yaw = 0.859752,2.4057,-1.50104,0.298771,-0.998264,-0.386195\n",
        "R, t = roll_pitch_yaw(roll, pitch, yaw), np.array([x,y,z])\n",
        "pc = pcd.point_cloud_from_path(path_out)\n",
        "apply_transform(pc, R, t)\n",
        "pc.save_pcd('./data/pcd_bremen/my_bremen_sgd_icp.pcd')\n",
        "files.download('./data/pcd_bremen/my_bremen_sgd_icp.pcd')"
      ],
      "execution_count": 36,
      "outputs": [
        {
          "output_type": "stream",
          "text": [
            "/content/SGD_ICP_PY\n",
            "(2805929, 3)\n",
            "(3, 3)\n",
            "{'version': '.7', 'fields': ['x', 'y', 'z', 'intensity'], 'size': [4, 4, 4, 4], 'type': ['F', 'F', 'F', 'F'], 'count': [1, 1, 1, 1], 'width': 2805929, 'height': 1, 'viewpoint': [0.0, 0.0, 0.0, 1.0, 0.0, 0.0, 0.0], 'points': 2805929, 'data': 'binary'}\n"
          ],
          "name": "stdout"
        }
      ]
    }
  ]
}